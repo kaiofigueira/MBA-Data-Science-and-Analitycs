{
 "cells": [
  {
   "cell_type": "markdown",
   "id": "cbca81bf",
   "metadata": {},
   "source": [
    "# Enunciado"
   ]
  },
  {
   "cell_type": "markdown",
   "id": "29942de2",
   "metadata": {},
   "source": [
    "a) Um analista do mercado acionário coletou os retornos mensais de duas \n",
    "ações que pretende indicar aos seus clientes. Calcule as estatísticas \n",
    "descritivas para as duas variáveis.\n",
    "\n",
    "b) Posteriormente, analise o coeficiente de correlação de Pearson \n",
    "entre os retornos. "
   ]
  },
  {
   "cell_type": "markdown",
   "id": "77b53b70",
   "metadata": {},
   "source": [
    "# Imports"
   ]
  },
  {
   "cell_type": "code",
   "execution_count": 1,
   "id": "f6cbd8be",
   "metadata": {},
   "outputs": [
    {
     "name": "stdout",
     "output_type": "stream",
     "text": [
      "Requirement already satisfied: scipy in c:\\users\\kaiof\\appdata\\local\\packages\\pythonsoftwarefoundation.python.3.11_qbz5n2kfra8p0\\localcache\\local-packages\\python311\\site-packages (1.15.3)\n",
      "Requirement already satisfied: numpy<2.5,>=1.23.5 in c:\\users\\kaiof\\appdata\\local\\packages\\pythonsoftwarefoundation.python.3.11_qbz5n2kfra8p0\\localcache\\local-packages\\python311\\site-packages (from scipy) (1.26.2)\n",
      "Note: you may need to restart the kernel to use updated packages.\n"
     ]
    },
    {
     "name": "stderr",
     "output_type": "stream",
     "text": [
      "\n",
      "[notice] A new release of pip is available: 24.0 -> 25.1.1\n",
      "[notice] To update, run: C:\\Users\\kaiof\\AppData\\Local\\Microsoft\\WindowsApps\\PythonSoftwareFoundation.Python.3.11_qbz5n2kfra8p0\\python.exe -m pip install --upgrade pip\n"
     ]
    }
   ],
   "source": [
    "pip install scipy"
   ]
  },
  {
   "cell_type": "code",
   "execution_count": 2,
   "id": "960c1864",
   "metadata": {},
   "outputs": [],
   "source": [
    "import pandas as pd\n",
    "import numpy as np\n",
    "from scipy.stats import t\n",
    "from scipy.stats import pearsonr\n",
    "import math"
   ]
  },
  {
   "cell_type": "markdown",
   "id": "3dda103b",
   "metadata": {},
   "source": [
    "# Leitura dos dados para resolução do exercício"
   ]
  },
  {
   "cell_type": "code",
   "execution_count": 3,
   "id": "ed97777d",
   "metadata": {},
   "outputs": [
    {
     "data": {
      "text/html": [
       "<div>\n",
       "<style scoped>\n",
       "    .dataframe tbody tr th:only-of-type {\n",
       "        vertical-align: middle;\n",
       "    }\n",
       "\n",
       "    .dataframe tbody tr th {\n",
       "        vertical-align: top;\n",
       "    }\n",
       "\n",
       "    .dataframe thead th {\n",
       "        text-align: right;\n",
       "    }\n",
       "</style>\n",
       "<table border=\"1\" class=\"dataframe\">\n",
       "  <thead>\n",
       "    <tr style=\"text-align: right;\">\n",
       "      <th></th>\n",
       "      <th>Meses</th>\n",
       "      <th>Ação 1</th>\n",
       "      <th>Ação 2</th>\n",
       "    </tr>\n",
       "  </thead>\n",
       "  <tbody>\n",
       "    <tr>\n",
       "      <th>0</th>\n",
       "      <td>1</td>\n",
       "      <td>-0.0212</td>\n",
       "      <td>0.2645</td>\n",
       "    </tr>\n",
       "    <tr>\n",
       "      <th>1</th>\n",
       "      <td>2</td>\n",
       "      <td>0.2438</td>\n",
       "      <td>0.2086</td>\n",
       "    </tr>\n",
       "    <tr>\n",
       "      <th>2</th>\n",
       "      <td>3</td>\n",
       "      <td>0.2296</td>\n",
       "      <td>0.1248</td>\n",
       "    </tr>\n",
       "    <tr>\n",
       "      <th>3</th>\n",
       "      <td>4</td>\n",
       "      <td>-0.2018</td>\n",
       "      <td>0.0209</td>\n",
       "    </tr>\n",
       "    <tr>\n",
       "      <th>4</th>\n",
       "      <td>5</td>\n",
       "      <td>0.1296</td>\n",
       "      <td>0.2055</td>\n",
       "    </tr>\n",
       "    <tr>\n",
       "      <th>5</th>\n",
       "      <td>6</td>\n",
       "      <td>0.0615</td>\n",
       "      <td>0.6260</td>\n",
       "    </tr>\n",
       "    <tr>\n",
       "      <th>6</th>\n",
       "      <td>7</td>\n",
       "      <td>-0.1591</td>\n",
       "      <td>-0.1490</td>\n",
       "    </tr>\n",
       "    <tr>\n",
       "      <th>7</th>\n",
       "      <td>8</td>\n",
       "      <td>-0.1001</td>\n",
       "      <td>0.2580</td>\n",
       "    </tr>\n",
       "    <tr>\n",
       "      <th>8</th>\n",
       "      <td>9</td>\n",
       "      <td>-0.0265</td>\n",
       "      <td>0.1722</td>\n",
       "    </tr>\n",
       "    <tr>\n",
       "      <th>9</th>\n",
       "      <td>10</td>\n",
       "      <td>0.0776</td>\n",
       "      <td>0.0199</td>\n",
       "    </tr>\n",
       "    <tr>\n",
       "      <th>10</th>\n",
       "      <td>11</td>\n",
       "      <td>0.0370</td>\n",
       "      <td>0.4331</td>\n",
       "    </tr>\n",
       "    <tr>\n",
       "      <th>11</th>\n",
       "      <td>12</td>\n",
       "      <td>0.1116</td>\n",
       "      <td>0.5482</td>\n",
       "    </tr>\n",
       "    <tr>\n",
       "      <th>12</th>\n",
       "      <td>13</td>\n",
       "      <td>-0.0667</td>\n",
       "      <td>0.0452</td>\n",
       "    </tr>\n",
       "    <tr>\n",
       "      <th>13</th>\n",
       "      <td>14</td>\n",
       "      <td>-0.0082</td>\n",
       "      <td>-0.1410</td>\n",
       "    </tr>\n",
       "    <tr>\n",
       "      <th>14</th>\n",
       "      <td>15</td>\n",
       "      <td>0.0119</td>\n",
       "      <td>-0.1059</td>\n",
       "    </tr>\n",
       "    <tr>\n",
       "      <th>15</th>\n",
       "      <td>16</td>\n",
       "      <td>0.1205</td>\n",
       "      <td>0.4074</td>\n",
       "    </tr>\n",
       "    <tr>\n",
       "      <th>16</th>\n",
       "      <td>17</td>\n",
       "      <td>0.0477</td>\n",
       "      <td>-0.0056</td>\n",
       "    </tr>\n",
       "    <tr>\n",
       "      <th>17</th>\n",
       "      <td>18</td>\n",
       "      <td>0.2814</td>\n",
       "      <td>0.1482</td>\n",
       "    </tr>\n",
       "    <tr>\n",
       "      <th>18</th>\n",
       "      <td>19</td>\n",
       "      <td>-0.0674</td>\n",
       "      <td>0.0753</td>\n",
       "    </tr>\n",
       "    <tr>\n",
       "      <th>19</th>\n",
       "      <td>20</td>\n",
       "      <td>0.0762</td>\n",
       "      <td>0.0899</td>\n",
       "    </tr>\n",
       "    <tr>\n",
       "      <th>20</th>\n",
       "      <td>21</td>\n",
       "      <td>-0.1111</td>\n",
       "      <td>0.0160</td>\n",
       "    </tr>\n",
       "    <tr>\n",
       "      <th>21</th>\n",
       "      <td>22</td>\n",
       "      <td>-0.0557</td>\n",
       "      <td>0.1805</td>\n",
       "    </tr>\n",
       "    <tr>\n",
       "      <th>22</th>\n",
       "      <td>23</td>\n",
       "      <td>0.1991</td>\n",
       "      <td>0.0334</td>\n",
       "    </tr>\n",
       "  </tbody>\n",
       "</table>\n",
       "</div>"
      ],
      "text/plain": [
       "    Meses  Ação 1  Ação 2\n",
       "0       1 -0.0212  0.2645\n",
       "1       2  0.2438  0.2086\n",
       "2       3  0.2296  0.1248\n",
       "3       4 -0.2018  0.0209\n",
       "4       5  0.1296  0.2055\n",
       "5       6  0.0615  0.6260\n",
       "6       7 -0.1591 -0.1490\n",
       "7       8 -0.1001  0.2580\n",
       "8       9 -0.0265  0.1722\n",
       "9      10  0.0776  0.0199\n",
       "10     11  0.0370  0.4331\n",
       "11     12  0.1116  0.5482\n",
       "12     13 -0.0667  0.0452\n",
       "13     14 -0.0082 -0.1410\n",
       "14     15  0.0119 -0.1059\n",
       "15     16  0.1205  0.4074\n",
       "16     17  0.0477 -0.0056\n",
       "17     18  0.2814  0.1482\n",
       "18     19 -0.0674  0.0753\n",
       "19     20  0.0762  0.0899\n",
       "20     21 -0.1111  0.0160\n",
       "21     22 -0.0557  0.1805\n",
       "22     23  0.1991  0.0334"
      ]
     },
     "execution_count": 3,
     "metadata": {},
     "output_type": "execute_result"
    }
   ],
   "source": [
    "df = pd.read_excel('dados.xlsx')\n",
    "df"
   ]
  },
  {
   "cell_type": "code",
   "execution_count": 4,
   "id": "9e4f14a4",
   "metadata": {},
   "outputs": [
    {
     "data": {
      "text/plain": [
       "Meses       int64\n",
       "Ação 1    float64\n",
       "Ação 2    float64\n",
       "dtype: object"
      ]
     },
     "execution_count": 4,
     "metadata": {},
     "output_type": "execute_result"
    }
   ],
   "source": [
    "df.dtypes"
   ]
  },
  {
   "cell_type": "markdown",
   "id": "12437550",
   "metadata": {},
   "source": [
    "# Resolução da letra a"
   ]
  },
  {
   "cell_type": "markdown",
   "id": "4c64c15b",
   "metadata": {},
   "source": [
    "## Número de Observações"
   ]
  },
  {
   "cell_type": "code",
   "execution_count": 5,
   "id": "1ac436ef",
   "metadata": {},
   "outputs": [
    {
     "data": {
      "text/plain": [
       "23"
      ]
     },
     "execution_count": 5,
     "metadata": {},
     "output_type": "execute_result"
    }
   ],
   "source": [
    "n_acao_1 = len(df['Ação 1'])\n",
    "n_acao_1"
   ]
  },
  {
   "cell_type": "code",
   "execution_count": 6,
   "id": "aa3a8c75",
   "metadata": {},
   "outputs": [
    {
     "data": {
      "text/plain": [
       "23"
      ]
     },
     "execution_count": 6,
     "metadata": {},
     "output_type": "execute_result"
    }
   ],
   "source": [
    "n_acao_2 = len(df['Ação 2'])\n",
    "n_acao_2"
   ]
  },
  {
   "cell_type": "markdown",
   "id": "936c4f9f",
   "metadata": {},
   "source": [
    "## Média"
   ]
  },
  {
   "cell_type": "code",
   "execution_count": 7,
   "id": "9f1f9a94",
   "metadata": {},
   "outputs": [
    {
     "data": {
      "text/plain": [
       "0.03520434782608696"
      ]
     },
     "execution_count": 7,
     "metadata": {},
     "output_type": "execute_result"
    }
   ],
   "source": [
    "media_acao_1 = df['Ação 1'].mean()\n",
    "media_acao_1"
   ]
  },
  {
   "cell_type": "code",
   "execution_count": 8,
   "id": "1caf6b06",
   "metadata": {},
   "outputs": [
    {
     "data": {
      "text/plain": [
       "0.15113478260869564"
      ]
     },
     "execution_count": 8,
     "metadata": {},
     "output_type": "execute_result"
    }
   ],
   "source": [
    "media_acao_2 = df['Ação 2'].mean()\n",
    "media_acao_2"
   ]
  },
  {
   "cell_type": "markdown",
   "id": "c8a9dfa9",
   "metadata": {},
   "source": [
    "## Mediana"
   ]
  },
  {
   "cell_type": "markdown",
   "id": "534743cf",
   "metadata": {},
   "source": [
    "Ponto importante: Como a função median já faz a ordenação internamente do conjunto de dados, não é necessário entregar um conjunto de dados já ordenados a ela."
   ]
  },
  {
   "cell_type": "code",
   "execution_count": 9,
   "id": "ece4ee6e",
   "metadata": {},
   "outputs": [
    {
     "data": {
      "text/plain": [
       "0.037"
      ]
     },
     "execution_count": 9,
     "metadata": {},
     "output_type": "execute_result"
    }
   ],
   "source": [
    "mediana_acao_1 = df['Ação 1'].median()\n",
    "mediana_acao_1"
   ]
  },
  {
   "cell_type": "code",
   "execution_count": 10,
   "id": "e6b19126",
   "metadata": {},
   "outputs": [
    {
     "data": {
      "text/plain": [
       "0.1248"
      ]
     },
     "execution_count": 10,
     "metadata": {},
     "output_type": "execute_result"
    }
   ],
   "source": [
    "mediana_acao_2 = df['Ação 2'].median()\n",
    "mediana_acao_2"
   ]
  },
  {
   "cell_type": "markdown",
   "id": "66f343ec",
   "metadata": {},
   "source": [
    "## Moda"
   ]
  },
  {
   "cell_type": "markdown",
   "id": "85c97f94",
   "metadata": {},
   "source": [
    "Como não existem valores que se repete, ele acaba trazendo todos os valores do conjunto de dados"
   ]
  },
  {
   "cell_type": "code",
   "execution_count": 11,
   "id": "3c706207",
   "metadata": {},
   "outputs": [
    {
     "data": {
      "text/plain": [
       "0    -0.2018\n",
       "1    -0.1591\n",
       "2    -0.1111\n",
       "3    -0.1001\n",
       "4    -0.0674\n",
       "5    -0.0667\n",
       "6    -0.0557\n",
       "7    -0.0265\n",
       "8    -0.0212\n",
       "9    -0.0082\n",
       "10    0.0119\n",
       "11    0.0370\n",
       "12    0.0477\n",
       "13    0.0615\n",
       "14    0.0762\n",
       "15    0.0776\n",
       "16    0.1116\n",
       "17    0.1205\n",
       "18    0.1296\n",
       "19    0.1991\n",
       "20    0.2296\n",
       "21    0.2438\n",
       "22    0.2814\n",
       "Name: Ação 1, dtype: float64"
      ]
     },
     "execution_count": 11,
     "metadata": {},
     "output_type": "execute_result"
    }
   ],
   "source": [
    "moda_acao_1 = df['Ação 1'].mode()\n",
    "moda_acao_1"
   ]
  },
  {
   "cell_type": "code",
   "execution_count": 12,
   "id": "d6324d27",
   "metadata": {},
   "outputs": [
    {
     "data": {
      "text/plain": [
       "0    -0.1490\n",
       "1    -0.1410\n",
       "2    -0.1059\n",
       "3    -0.0056\n",
       "4     0.0160\n",
       "5     0.0199\n",
       "6     0.0209\n",
       "7     0.0334\n",
       "8     0.0452\n",
       "9     0.0753\n",
       "10    0.0899\n",
       "11    0.1248\n",
       "12    0.1482\n",
       "13    0.1722\n",
       "14    0.1805\n",
       "15    0.2055\n",
       "16    0.2086\n",
       "17    0.2580\n",
       "18    0.2645\n",
       "19    0.4074\n",
       "20    0.4331\n",
       "21    0.5482\n",
       "22    0.6260\n",
       "Name: Ação 2, dtype: float64"
      ]
     },
     "execution_count": 12,
     "metadata": {},
     "output_type": "execute_result"
    }
   ],
   "source": [
    "moda_acao_2 = df['Ação 2'].mode()\n",
    "moda_acao_2"
   ]
  },
  {
   "cell_type": "markdown",
   "id": "d47af9a8",
   "metadata": {},
   "source": [
    "## 1° Quartil"
   ]
  },
  {
   "cell_type": "markdown",
   "id": "f9a397e9",
   "metadata": {},
   "source": [
    "Ponto importante: Como a função quantile já faz a ordenação internamente do conjunto de dados, não é necessário entregar um conjunto de dados já ordenados a ela."
   ]
  },
  {
   "cell_type": "code",
   "execution_count": 13,
   "id": "1599f03f",
   "metadata": {},
   "outputs": [
    {
     "data": {
      "text/plain": [
       "-0.0612"
      ]
     },
     "execution_count": 13,
     "metadata": {},
     "output_type": "execute_result"
    }
   ],
   "source": [
    "quartil_1_acao_1 = df['Ação 1'].quantile(0.25)\n",
    "quartil_1_acao_1"
   ]
  },
  {
   "cell_type": "code",
   "execution_count": 14,
   "id": "8307835f",
   "metadata": {},
   "outputs": [
    {
     "data": {
      "text/plain": [
       "0.0204"
      ]
     },
     "execution_count": 14,
     "metadata": {},
     "output_type": "execute_result"
    }
   ],
   "source": [
    "quartil_1_acao_2 = df['Ação 2'].quantile(0.25)\n",
    "quartil_1_acao_2"
   ]
  },
  {
   "cell_type": "markdown",
   "id": "0a3f5c90",
   "metadata": {},
   "source": [
    "## 3° Quartil"
   ]
  },
  {
   "cell_type": "markdown",
   "id": "d0de7a02",
   "metadata": {},
   "source": [
    "Ponto importante: Como a função quantile já faz a ordenação internamente do conjunto de dados, não é necessário entregar um conjunto de dados já ordenados a ela."
   ]
  },
  {
   "cell_type": "code",
   "execution_count": 15,
   "id": "332b6df5",
   "metadata": {},
   "outputs": [
    {
     "data": {
      "text/plain": [
       "0.11605"
      ]
     },
     "execution_count": 15,
     "metadata": {},
     "output_type": "execute_result"
    }
   ],
   "source": [
    "quartil_3_acao_1 = df['Ação 1'].quantile(0.75)\n",
    "quartil_3_acao_1"
   ]
  },
  {
   "cell_type": "code",
   "execution_count": 16,
   "id": "6e6695df",
   "metadata": {},
   "outputs": [
    {
     "data": {
      "text/plain": [
       "0.2333"
      ]
     },
     "execution_count": 16,
     "metadata": {},
     "output_type": "execute_result"
    }
   ],
   "source": [
    "quartil_3_acao_2 = df['Ação 2'].quantile(0.75)\n",
    "quartil_3_acao_2"
   ]
  },
  {
   "cell_type": "markdown",
   "id": "1f0ad352",
   "metadata": {},
   "source": [
    "## 8° Decil"
   ]
  },
  {
   "cell_type": "code",
   "execution_count": 17,
   "id": "45febde1",
   "metadata": {},
   "outputs": [
    {
     "data": {
      "text/plain": [
       "0.12596000000000002"
      ]
     },
     "execution_count": 17,
     "metadata": {},
     "output_type": "execute_result"
    }
   ],
   "source": [
    "decil_8_acao_1 = df['Ação 1'].quantile(0.8)\n",
    "decil_8_acao_1"
   ]
  },
  {
   "cell_type": "code",
   "execution_count": 18,
   "id": "8b115f92",
   "metadata": {},
   "outputs": [
    {
     "data": {
      "text/plain": [
       "0.2619"
      ]
     },
     "execution_count": 18,
     "metadata": {},
     "output_type": "execute_result"
    }
   ],
   "source": [
    "decil_8_acao_2 = df['Ação 2'].quantile(0.8)\n",
    "decil_8_acao_2"
   ]
  },
  {
   "cell_type": "markdown",
   "id": "0183d22a",
   "metadata": {},
   "source": [
    "## 9° Decil"
   ]
  },
  {
   "cell_type": "code",
   "execution_count": 19,
   "id": "46a6d6cd",
   "metadata": {},
   "outputs": [
    {
     "data": {
      "text/plain": [
       "0.22350000000000003"
      ]
     },
     "execution_count": 19,
     "metadata": {},
     "output_type": "execute_result"
    }
   ],
   "source": [
    "decil_9_acao_1 = df['Ação 1'].quantile(0.9)\n",
    "decil_9_acao_1"
   ]
  },
  {
   "cell_type": "code",
   "execution_count": 20,
   "id": "82e72078",
   "metadata": {},
   "outputs": [
    {
     "data": {
      "text/plain": [
       "0.42796"
      ]
     },
     "execution_count": 20,
     "metadata": {},
     "output_type": "execute_result"
    }
   ],
   "source": [
    "decil_9_acao_2 = df['Ação 2'].quantile(0.9)\n",
    "decil_9_acao_2"
   ]
  },
  {
   "cell_type": "markdown",
   "id": "bb664582",
   "metadata": {},
   "source": [
    "## 27° Percentil"
   ]
  },
  {
   "cell_type": "code",
   "execution_count": 21,
   "id": "55751bc6",
   "metadata": {},
   "outputs": [
    {
     "data": {
      "text/plain": [
       "-0.05635999999999999"
      ]
     },
     "execution_count": 21,
     "metadata": {},
     "output_type": "execute_result"
    }
   ],
   "source": [
    "percentil_27_acao_1 = df['Ação 1'].quantile(0.27)\n",
    "percentil_27_acao_1"
   ]
  },
  {
   "cell_type": "code",
   "execution_count": 22,
   "id": "b7bd5f15",
   "metadata": {},
   "outputs": [
    {
     "data": {
      "text/plain": [
       "0.020839999999999997"
      ]
     },
     "execution_count": 22,
     "metadata": {},
     "output_type": "execute_result"
    }
   ],
   "source": [
    "percentil_27_acao_2 = df['Ação 2'].quantile(0.27)\n",
    "percentil_27_acao_2"
   ]
  },
  {
   "cell_type": "markdown",
   "id": "2bbb750f",
   "metadata": {},
   "source": [
    "## 64° Percentil"
   ]
  },
  {
   "cell_type": "code",
   "execution_count": 23,
   "id": "07005464",
   "metadata": {},
   "outputs": [
    {
     "data": {
      "text/plain": [
       "0.076312"
      ]
     },
     "execution_count": 23,
     "metadata": {},
     "output_type": "execute_result"
    }
   ],
   "source": [
    "percentil_64_acao_1 = df['Ação 1'].quantile(0.64)\n",
    "percentil_64_acao_1"
   ]
  },
  {
   "cell_type": "code",
   "execution_count": 24,
   "id": "4fe5f472",
   "metadata": {},
   "outputs": [
    {
     "data": {
      "text/plain": [
       "0.1825"
      ]
     },
     "execution_count": 24,
     "metadata": {},
     "output_type": "execute_result"
    }
   ],
   "source": [
    "percentil_64_acao_2 = df['Ação 2'].quantile(0.64)\n",
    "percentil_64_acao_2"
   ]
  },
  {
   "cell_type": "markdown",
   "id": "7472c495",
   "metadata": {},
   "source": [
    "## Valor Mínimo"
   ]
  },
  {
   "cell_type": "code",
   "execution_count": 25,
   "id": "4a61c53d",
   "metadata": {},
   "outputs": [
    {
     "data": {
      "text/plain": [
       "-0.2018"
      ]
     },
     "execution_count": 25,
     "metadata": {},
     "output_type": "execute_result"
    }
   ],
   "source": [
    "valor_minimo_acao_1 = df['Ação 1'].min()\n",
    "valor_minimo_acao_1"
   ]
  },
  {
   "cell_type": "code",
   "execution_count": 26,
   "id": "62d4dfa5",
   "metadata": {},
   "outputs": [
    {
     "data": {
      "text/plain": [
       "-0.149"
      ]
     },
     "execution_count": 26,
     "metadata": {},
     "output_type": "execute_result"
    }
   ],
   "source": [
    "valor_minimo_acao_2 = df['Ação 2'].min()\n",
    "valor_minimo_acao_2"
   ]
  },
  {
   "cell_type": "markdown",
   "id": "f1cfd77c",
   "metadata": {},
   "source": [
    "## Valor Máximo"
   ]
  },
  {
   "cell_type": "code",
   "execution_count": 27,
   "id": "53fccf3b",
   "metadata": {},
   "outputs": [
    {
     "data": {
      "text/plain": [
       "0.2814"
      ]
     },
     "execution_count": 27,
     "metadata": {},
     "output_type": "execute_result"
    }
   ],
   "source": [
    "valor_maximo_acao_1 = df['Ação 1'].max()\n",
    "valor_maximo_acao_1"
   ]
  },
  {
   "cell_type": "code",
   "execution_count": 28,
   "id": "eb5744a8",
   "metadata": {},
   "outputs": [
    {
     "data": {
      "text/plain": [
       "0.626"
      ]
     },
     "execution_count": 28,
     "metadata": {},
     "output_type": "execute_result"
    }
   ],
   "source": [
    "valor_maximo_acao_2 = df['Ação 2'].max()\n",
    "valor_maximo_acao_2"
   ]
  },
  {
   "cell_type": "markdown",
   "id": "8e108d0d",
   "metadata": {},
   "source": [
    "## Amplitude"
   ]
  },
  {
   "cell_type": "code",
   "execution_count": 29,
   "id": "7712713b",
   "metadata": {},
   "outputs": [
    {
     "data": {
      "text/plain": [
       "0.48319999999999996"
      ]
     },
     "execution_count": 29,
     "metadata": {},
     "output_type": "execute_result"
    }
   ],
   "source": [
    "amplitude_acao_1 = valor_maximo_acao_1 - valor_minimo_acao_1\n",
    "amplitude_acao_1"
   ]
  },
  {
   "cell_type": "code",
   "execution_count": 30,
   "id": "c26a2faf",
   "metadata": {},
   "outputs": [
    {
     "data": {
      "text/plain": [
       "0.775"
      ]
     },
     "execution_count": 30,
     "metadata": {},
     "output_type": "execute_result"
    }
   ],
   "source": [
    "amplitude_acao_2 = valor_maximo_acao_2 - valor_minimo_acao_2\n",
    "amplitude_acao_2"
   ]
  },
  {
   "cell_type": "markdown",
   "id": "4b438ee8",
   "metadata": {},
   "source": [
    "## Variância"
   ]
  },
  {
   "cell_type": "code",
   "execution_count": 31,
   "id": "5e6ac696",
   "metadata": {},
   "outputs": [
    {
     "data": {
      "text/plain": [
       "0.016698003162055334"
      ]
     },
     "execution_count": 31,
     "metadata": {},
     "output_type": "execute_result"
    }
   ],
   "source": [
    "variancia_acao_1 = df['Ação 1'].var()\n",
    "variancia_acao_1"
   ]
  },
  {
   "cell_type": "code",
   "execution_count": 32,
   "id": "b64b8812",
   "metadata": {},
   "outputs": [
    {
     "data": {
      "text/plain": [
       "0.04154352328063241"
      ]
     },
     "execution_count": 32,
     "metadata": {},
     "output_type": "execute_result"
    }
   ],
   "source": [
    "variancia_acao_2 = df['Ação 2'].var()\n",
    "variancia_acao_2"
   ]
  },
  {
   "cell_type": "markdown",
   "id": "a0992b3e",
   "metadata": {},
   "source": [
    "## Desvio Padrão"
   ]
  },
  {
   "cell_type": "code",
   "execution_count": 33,
   "id": "af95c0e3",
   "metadata": {},
   "outputs": [
    {
     "data": {
      "text/plain": [
       "0.12922075360426952"
      ]
     },
     "execution_count": 33,
     "metadata": {},
     "output_type": "execute_result"
    }
   ],
   "source": [
    "desvio_padrao_acao_1 = df['Ação 1'].std()\n",
    "desvio_padrao_acao_1"
   ]
  },
  {
   "cell_type": "markdown",
   "id": "eae7c54c",
   "metadata": {},
   "source": [
    "Ou é possível calculando a raiz quadrada da variância. Como vemos a baixo, o dois valores são iguais."
   ]
  },
  {
   "cell_type": "code",
   "execution_count": 34,
   "id": "71c1d3c3",
   "metadata": {},
   "outputs": [
    {
     "data": {
      "text/plain": [
       "True"
      ]
     },
     "execution_count": 34,
     "metadata": {},
     "output_type": "execute_result"
    }
   ],
   "source": [
    "np.sqrt(variancia_acao_1) == desvio_padrao_acao_1"
   ]
  },
  {
   "cell_type": "code",
   "execution_count": 35,
   "id": "68b0cc7c",
   "metadata": {},
   "outputs": [
    {
     "data": {
      "text/plain": [
       "0.2038222835723131"
      ]
     },
     "execution_count": 35,
     "metadata": {},
     "output_type": "execute_result"
    }
   ],
   "source": [
    "desvio_padrao_acao_2 = df['Ação 2'].std()\n",
    "desvio_padrao_acao_2"
   ]
  },
  {
   "cell_type": "markdown",
   "id": "828d420b",
   "metadata": {},
   "source": [
    "## Erro Padrão"
   ]
  },
  {
   "cell_type": "code",
   "execution_count": 36,
   "id": "c40115e9",
   "metadata": {},
   "outputs": [
    {
     "data": {
      "text/plain": [
       "0.026944389721807894"
      ]
     },
     "execution_count": 36,
     "metadata": {},
     "output_type": "execute_result"
    }
   ],
   "source": [
    "erro_padrao_acao_1 = df['Ação 1'].sem()\n",
    "erro_padrao_acao_1"
   ]
  },
  {
   "cell_type": "markdown",
   "id": "defc65e4",
   "metadata": {},
   "source": [
    "Ou é possível calcular de forma manual. Desvio padrao / pela raiz quadrada de n"
   ]
  },
  {
   "cell_type": "code",
   "execution_count": 37,
   "id": "16bb0b57",
   "metadata": {},
   "outputs": [],
   "source": [
    "erro_padrao_acao_1_v2 = df['Ação 1'].std() / np.sqrt(len(df['Ação 1'])) "
   ]
  },
  {
   "cell_type": "code",
   "execution_count": 38,
   "id": "be7aaeeb",
   "metadata": {},
   "outputs": [
    {
     "data": {
      "text/plain": [
       "True"
      ]
     },
     "execution_count": 38,
     "metadata": {},
     "output_type": "execute_result"
    }
   ],
   "source": [
    "erro_padrao_acao_1_v2 == erro_padrao_acao_1"
   ]
  },
  {
   "cell_type": "code",
   "execution_count": 39,
   "id": "c5d43e11",
   "metadata": {},
   "outputs": [
    {
     "data": {
      "text/plain": [
       "0.042499884030855806"
      ]
     },
     "execution_count": 39,
     "metadata": {},
     "output_type": "execute_result"
    }
   ],
   "source": [
    "erro_padrao_acao_2 = df['Ação 2'].sem()\n",
    "erro_padrao_acao_2"
   ]
  },
  {
   "cell_type": "markdown",
   "id": "17110745",
   "metadata": {},
   "source": [
    "## Coeficiente de Variação"
   ]
  },
  {
   "cell_type": "code",
   "execution_count": 40,
   "id": "b733b26d",
   "metadata": {},
   "outputs": [
    {
     "data": {
      "text/plain": [
       "3.6705907532397166"
      ]
     },
     "execution_count": 40,
     "metadata": {},
     "output_type": "execute_result"
    }
   ],
   "source": [
    "coeficiente_variacao_acao_1 = desvio_padrao_acao_1 / media_acao_1\n",
    "coeficiente_variacao_acao_1"
   ]
  },
  {
   "cell_type": "code",
   "execution_count": 41,
   "id": "637d5801",
   "metadata": {},
   "outputs": [
    {
     "data": {
      "text/plain": [
       "1.348612675746728"
      ]
     },
     "execution_count": 41,
     "metadata": {},
     "output_type": "execute_result"
    }
   ],
   "source": [
    "coeficiente_variacao_acao_2 = desvio_padrao_acao_2 / media_acao_2\n",
    "coeficiente_variacao_acao_2"
   ]
  },
  {
   "cell_type": "markdown",
   "id": "53d23cd0",
   "metadata": {},
   "source": [
    "## Montando a tabela final"
   ]
  },
  {
   "cell_type": "code",
   "execution_count": 42,
   "id": "16e8db0d",
   "metadata": {},
   "outputs": [
    {
     "data": {
      "text/html": [
       "<div>\n",
       "<style scoped>\n",
       "    .dataframe tbody tr th:only-of-type {\n",
       "        vertical-align: middle;\n",
       "    }\n",
       "\n",
       "    .dataframe tbody tr th {\n",
       "        vertical-align: top;\n",
       "    }\n",
       "\n",
       "    .dataframe thead th {\n",
       "        text-align: right;\n",
       "    }\n",
       "</style>\n",
       "<table border=\"1\" class=\"dataframe\">\n",
       "  <thead>\n",
       "    <tr style=\"text-align: right;\">\n",
       "      <th></th>\n",
       "      <th>N° Observações</th>\n",
       "      <th>Média</th>\n",
       "      <th>Mediana</th>\n",
       "      <th>Moda</th>\n",
       "      <th>1° Quartil</th>\n",
       "      <th>3° Quartil</th>\n",
       "      <th>8° Decil</th>\n",
       "      <th>9° Decil</th>\n",
       "      <th>27° Percentil</th>\n",
       "      <th>64° Percentil</th>\n",
       "      <th>Valor Mínimo</th>\n",
       "      <th>Valor Máximo</th>\n",
       "      <th>Amplitude</th>\n",
       "      <th>Variância</th>\n",
       "      <th>Desvio Padrão</th>\n",
       "      <th>Erro Padrão</th>\n",
       "      <th>Coeficiente de Variação</th>\n",
       "    </tr>\n",
       "  </thead>\n",
       "  <tbody>\n",
       "    <tr>\n",
       "      <th>Ação 1</th>\n",
       "      <td>23</td>\n",
       "      <td>0.035204</td>\n",
       "      <td>0.0370</td>\n",
       "      <td>0    -0.2018\n",
       "1    -0.1591\n",
       "2    -0.1111\n",
       "3    -0...</td>\n",
       "      <td>-0.0612</td>\n",
       "      <td>0.11605</td>\n",
       "      <td>0.12596</td>\n",
       "      <td>0.22350</td>\n",
       "      <td>-0.05636</td>\n",
       "      <td>0.076312</td>\n",
       "      <td>-0.2018</td>\n",
       "      <td>0.2814</td>\n",
       "      <td>0.4832</td>\n",
       "      <td>0.016698</td>\n",
       "      <td>0.129221</td>\n",
       "      <td>0.026944</td>\n",
       "      <td>3.670591</td>\n",
       "    </tr>\n",
       "    <tr>\n",
       "      <th>Ação 2</th>\n",
       "      <td>23</td>\n",
       "      <td>0.151135</td>\n",
       "      <td>0.1248</td>\n",
       "      <td>0    -0.1490\n",
       "1    -0.1410\n",
       "2    -0.1059\n",
       "3    -0...</td>\n",
       "      <td>0.0204</td>\n",
       "      <td>0.23330</td>\n",
       "      <td>0.26190</td>\n",
       "      <td>0.42796</td>\n",
       "      <td>0.02084</td>\n",
       "      <td>0.182500</td>\n",
       "      <td>-0.1490</td>\n",
       "      <td>0.6260</td>\n",
       "      <td>0.7750</td>\n",
       "      <td>0.041544</td>\n",
       "      <td>0.203822</td>\n",
       "      <td>0.042500</td>\n",
       "      <td>1.348613</td>\n",
       "    </tr>\n",
       "  </tbody>\n",
       "</table>\n",
       "</div>"
      ],
      "text/plain": [
       "        N° Observações     Média  Mediana  \\\n",
       "Ação 1              23  0.035204   0.0370   \n",
       "Ação 2              23  0.151135   0.1248   \n",
       "\n",
       "                                                     Moda  1° Quartil  \\\n",
       "Ação 1  0    -0.2018\n",
       "1    -0.1591\n",
       "2    -0.1111\n",
       "3    -0...     -0.0612   \n",
       "Ação 2  0    -0.1490\n",
       "1    -0.1410\n",
       "2    -0.1059\n",
       "3    -0...      0.0204   \n",
       "\n",
       "        3° Quartil  8° Decil  9° Decil  27° Percentil  64° Percentil  \\\n",
       "Ação 1     0.11605   0.12596   0.22350       -0.05636       0.076312   \n",
       "Ação 2     0.23330   0.26190   0.42796        0.02084       0.182500   \n",
       "\n",
       "        Valor Mínimo  Valor Máximo  Amplitude  Variância  Desvio Padrão  \\\n",
       "Ação 1       -0.2018        0.2814     0.4832   0.016698       0.129221   \n",
       "Ação 2       -0.1490        0.6260     0.7750   0.041544       0.203822   \n",
       "\n",
       "        Erro Padrão  Coeficiente de Variação  \n",
       "Ação 1     0.026944                 3.670591  \n",
       "Ação 2     0.042500                 1.348613  "
      ]
     },
     "execution_count": 42,
     "metadata": {},
     "output_type": "execute_result"
    }
   ],
   "source": [
    "tab_final = pd.DataFrame({\n",
    "    'N° Observações': [n_acao_1, n_acao_2],\n",
    "    'Média': [media_acao_1, media_acao_2],\n",
    "    'Mediana': [mediana_acao_1, mediana_acao_2],\n",
    "    'Moda': [moda_acao_1, moda_acao_2],\n",
    "    '1° Quartil': [quartil_1_acao_1, quartil_1_acao_2],\n",
    "    '3° Quartil': [quartil_3_acao_1, quartil_3_acao_2],\n",
    "    '8° Decil': [decil_8_acao_1, decil_8_acao_2],\n",
    "    '9° Decil': [decil_9_acao_1, decil_9_acao_2],\n",
    "    '27° Percentil': [percentil_27_acao_1, percentil_27_acao_2],\n",
    "    '64° Percentil': [percentil_64_acao_1, percentil_64_acao_2],\n",
    "    'Valor Mínimo': [valor_minimo_acao_1, valor_minimo_acao_2],\n",
    "    'Valor Máximo': [valor_maximo_acao_1, valor_maximo_acao_2],\n",
    "    'Amplitude': [amplitude_acao_1, amplitude_acao_2],\n",
    "    'Variância': [variancia_acao_1, variancia_acao_2],\n",
    "    'Desvio Padrão': [desvio_padrao_acao_1, desvio_padrao_acao_2],\n",
    "    'Erro Padrão': [erro_padrao_acao_1, erro_padrao_acao_2],\n",
    "    'Coeficiente de Variação': [coeficiente_variacao_acao_1, coeficiente_variacao_acao_2],    \n",
    "})\n",
    "tab_final.index = ['Ação 1', 'Ação 2']\n",
    "tab_final"
   ]
  },
  {
   "cell_type": "code",
   "execution_count": 43,
   "id": "ee93f717",
   "metadata": {},
   "outputs": [
    {
     "data": {
      "text/html": [
       "<div>\n",
       "<style scoped>\n",
       "    .dataframe tbody tr th:only-of-type {\n",
       "        vertical-align: middle;\n",
       "    }\n",
       "\n",
       "    .dataframe tbody tr th {\n",
       "        vertical-align: top;\n",
       "    }\n",
       "\n",
       "    .dataframe thead th {\n",
       "        text-align: right;\n",
       "    }\n",
       "</style>\n",
       "<table border=\"1\" class=\"dataframe\">\n",
       "  <thead>\n",
       "    <tr style=\"text-align: right;\">\n",
       "      <th></th>\n",
       "      <th>Ação 1</th>\n",
       "      <th>Ação 2</th>\n",
       "    </tr>\n",
       "  </thead>\n",
       "  <tbody>\n",
       "    <tr>\n",
       "      <th>N° Observações</th>\n",
       "      <td>23</td>\n",
       "      <td>23</td>\n",
       "    </tr>\n",
       "    <tr>\n",
       "      <th>Média</th>\n",
       "      <td>0.035204</td>\n",
       "      <td>0.151135</td>\n",
       "    </tr>\n",
       "    <tr>\n",
       "      <th>Mediana</th>\n",
       "      <td>0.037</td>\n",
       "      <td>0.1248</td>\n",
       "    </tr>\n",
       "    <tr>\n",
       "      <th>Moda</th>\n",
       "      <td>0    -0.2018\n",
       "1    -0.1591\n",
       "2    -0.1111\n",
       "3    -0...</td>\n",
       "      <td>0    -0.1490\n",
       "1    -0.1410\n",
       "2    -0.1059\n",
       "3    -0...</td>\n",
       "    </tr>\n",
       "    <tr>\n",
       "      <th>1° Quartil</th>\n",
       "      <td>-0.0612</td>\n",
       "      <td>0.0204</td>\n",
       "    </tr>\n",
       "    <tr>\n",
       "      <th>3° Quartil</th>\n",
       "      <td>0.11605</td>\n",
       "      <td>0.2333</td>\n",
       "    </tr>\n",
       "    <tr>\n",
       "      <th>8° Decil</th>\n",
       "      <td>0.12596</td>\n",
       "      <td>0.2619</td>\n",
       "    </tr>\n",
       "    <tr>\n",
       "      <th>9° Decil</th>\n",
       "      <td>0.2235</td>\n",
       "      <td>0.42796</td>\n",
       "    </tr>\n",
       "    <tr>\n",
       "      <th>27° Percentil</th>\n",
       "      <td>-0.05636</td>\n",
       "      <td>0.02084</td>\n",
       "    </tr>\n",
       "    <tr>\n",
       "      <th>64° Percentil</th>\n",
       "      <td>0.076312</td>\n",
       "      <td>0.1825</td>\n",
       "    </tr>\n",
       "    <tr>\n",
       "      <th>Valor Mínimo</th>\n",
       "      <td>-0.2018</td>\n",
       "      <td>-0.149</td>\n",
       "    </tr>\n",
       "    <tr>\n",
       "      <th>Valor Máximo</th>\n",
       "      <td>0.2814</td>\n",
       "      <td>0.626</td>\n",
       "    </tr>\n",
       "    <tr>\n",
       "      <th>Amplitude</th>\n",
       "      <td>0.4832</td>\n",
       "      <td>0.775</td>\n",
       "    </tr>\n",
       "    <tr>\n",
       "      <th>Variância</th>\n",
       "      <td>0.016698</td>\n",
       "      <td>0.041544</td>\n",
       "    </tr>\n",
       "    <tr>\n",
       "      <th>Desvio Padrão</th>\n",
       "      <td>0.129221</td>\n",
       "      <td>0.203822</td>\n",
       "    </tr>\n",
       "    <tr>\n",
       "      <th>Erro Padrão</th>\n",
       "      <td>0.026944</td>\n",
       "      <td>0.0425</td>\n",
       "    </tr>\n",
       "    <tr>\n",
       "      <th>Coeficiente de Variação</th>\n",
       "      <td>3.670591</td>\n",
       "      <td>1.348613</td>\n",
       "    </tr>\n",
       "  </tbody>\n",
       "</table>\n",
       "</div>"
      ],
      "text/plain": [
       "                                                                    Ação 1  \\\n",
       "N° Observações                                                          23   \n",
       "Média                                                             0.035204   \n",
       "Mediana                                                              0.037   \n",
       "Moda                     0    -0.2018\n",
       "1    -0.1591\n",
       "2    -0.1111\n",
       "3    -0...   \n",
       "1° Quartil                                                         -0.0612   \n",
       "3° Quartil                                                         0.11605   \n",
       "8° Decil                                                           0.12596   \n",
       "9° Decil                                                            0.2235   \n",
       "27° Percentil                                                     -0.05636   \n",
       "64° Percentil                                                     0.076312   \n",
       "Valor Mínimo                                                       -0.2018   \n",
       "Valor Máximo                                                        0.2814   \n",
       "Amplitude                                                           0.4832   \n",
       "Variância                                                         0.016698   \n",
       "Desvio Padrão                                                     0.129221   \n",
       "Erro Padrão                                                       0.026944   \n",
       "Coeficiente de Variação                                           3.670591   \n",
       "\n",
       "                                                                    Ação 2  \n",
       "N° Observações                                                          23  \n",
       "Média                                                             0.151135  \n",
       "Mediana                                                             0.1248  \n",
       "Moda                     0    -0.1490\n",
       "1    -0.1410\n",
       "2    -0.1059\n",
       "3    -0...  \n",
       "1° Quartil                                                          0.0204  \n",
       "3° Quartil                                                          0.2333  \n",
       "8° Decil                                                            0.2619  \n",
       "9° Decil                                                           0.42796  \n",
       "27° Percentil                                                      0.02084  \n",
       "64° Percentil                                                       0.1825  \n",
       "Valor Mínimo                                                        -0.149  \n",
       "Valor Máximo                                                         0.626  \n",
       "Amplitude                                                            0.775  \n",
       "Variância                                                         0.041544  \n",
       "Desvio Padrão                                                     0.203822  \n",
       "Erro Padrão                                                         0.0425  \n",
       "Coeficiente de Variação                                           1.348613  "
      ]
     },
     "execution_count": 43,
     "metadata": {},
     "output_type": "execute_result"
    }
   ],
   "source": [
    "tab_final.T"
   ]
  },
  {
   "cell_type": "markdown",
   "id": "33f44f72",
   "metadata": {},
   "source": [
    "Também é possível obter algumas estatisticas descritivas atraves da função describe do pandas."
   ]
  },
  {
   "cell_type": "code",
   "execution_count": 44,
   "id": "eb3f02c4",
   "metadata": {},
   "outputs": [
    {
     "data": {
      "text/html": [
       "<div>\n",
       "<style scoped>\n",
       "    .dataframe tbody tr th:only-of-type {\n",
       "        vertical-align: middle;\n",
       "    }\n",
       "\n",
       "    .dataframe tbody tr th {\n",
       "        vertical-align: top;\n",
       "    }\n",
       "\n",
       "    .dataframe thead th {\n",
       "        text-align: right;\n",
       "    }\n",
       "</style>\n",
       "<table border=\"1\" class=\"dataframe\">\n",
       "  <thead>\n",
       "    <tr style=\"text-align: right;\">\n",
       "      <th></th>\n",
       "      <th>Meses</th>\n",
       "      <th>Ação 1</th>\n",
       "      <th>Ação 2</th>\n",
       "    </tr>\n",
       "  </thead>\n",
       "  <tbody>\n",
       "    <tr>\n",
       "      <th>count</th>\n",
       "      <td>23.00000</td>\n",
       "      <td>23.000000</td>\n",
       "      <td>23.000000</td>\n",
       "    </tr>\n",
       "    <tr>\n",
       "      <th>mean</th>\n",
       "      <td>12.00000</td>\n",
       "      <td>0.035204</td>\n",
       "      <td>0.151135</td>\n",
       "    </tr>\n",
       "    <tr>\n",
       "      <th>std</th>\n",
       "      <td>6.78233</td>\n",
       "      <td>0.129221</td>\n",
       "      <td>0.203822</td>\n",
       "    </tr>\n",
       "    <tr>\n",
       "      <th>min</th>\n",
       "      <td>1.00000</td>\n",
       "      <td>-0.201800</td>\n",
       "      <td>-0.149000</td>\n",
       "    </tr>\n",
       "    <tr>\n",
       "      <th>25%</th>\n",
       "      <td>6.50000</td>\n",
       "      <td>-0.061200</td>\n",
       "      <td>0.020400</td>\n",
       "    </tr>\n",
       "    <tr>\n",
       "      <th>50%</th>\n",
       "      <td>12.00000</td>\n",
       "      <td>0.037000</td>\n",
       "      <td>0.124800</td>\n",
       "    </tr>\n",
       "    <tr>\n",
       "      <th>75%</th>\n",
       "      <td>17.50000</td>\n",
       "      <td>0.116050</td>\n",
       "      <td>0.233300</td>\n",
       "    </tr>\n",
       "    <tr>\n",
       "      <th>max</th>\n",
       "      <td>23.00000</td>\n",
       "      <td>0.281400</td>\n",
       "      <td>0.626000</td>\n",
       "    </tr>\n",
       "  </tbody>\n",
       "</table>\n",
       "</div>"
      ],
      "text/plain": [
       "          Meses     Ação 1     Ação 2\n",
       "count  23.00000  23.000000  23.000000\n",
       "mean   12.00000   0.035204   0.151135\n",
       "std     6.78233   0.129221   0.203822\n",
       "min     1.00000  -0.201800  -0.149000\n",
       "25%     6.50000  -0.061200   0.020400\n",
       "50%    12.00000   0.037000   0.124800\n",
       "75%    17.50000   0.116050   0.233300\n",
       "max    23.00000   0.281400   0.626000"
      ]
     },
     "execution_count": 44,
     "metadata": {},
     "output_type": "execute_result"
    }
   ],
   "source": [
    "df.describe()"
   ]
  },
  {
   "cell_type": "markdown",
   "id": "9b3cfde2",
   "metadata": {},
   "source": [
    "# Resposta da letra b"
   ]
  },
  {
   "cell_type": "markdown",
   "id": "c56d530d",
   "metadata": {},
   "source": [
    "## Correlação de Pearson"
   ]
  },
  {
   "cell_type": "markdown",
   "id": "8c00505e",
   "metadata": {},
   "source": [
    "A correlação de Pearson mede a força e direção da relação linear entre dois conjuntos de dados. A interpretação é:\n",
    "\n",
    "p > 0 → Quando A sobe, B tende a subir (correlação positiva)\n",
    "\n",
    "p < 0 → Quando A sobe, B tende a cair (correlação negativa)\n",
    "\n",
    "p = 0 → Não há relação linear aparente entre A e B\n",
    "\n",
    "Importante:\n",
    "\n",
    "p varia entre -1 e 1\n",
    "\n",
    "Quanto mais próximo de ±1, mais forte a correlação\n",
    "\n",
    "Pearson só capta relações lineares"
   ]
  },
  {
   "cell_type": "code",
   "execution_count": 45,
   "id": "8a2da928",
   "metadata": {},
   "outputs": [
    {
     "data": {
      "text/html": [
       "<div>\n",
       "<style scoped>\n",
       "    .dataframe tbody tr th:only-of-type {\n",
       "        vertical-align: middle;\n",
       "    }\n",
       "\n",
       "    .dataframe tbody tr th {\n",
       "        vertical-align: top;\n",
       "    }\n",
       "\n",
       "    .dataframe thead th {\n",
       "        text-align: right;\n",
       "    }\n",
       "</style>\n",
       "<table border=\"1\" class=\"dataframe\">\n",
       "  <thead>\n",
       "    <tr style=\"text-align: right;\">\n",
       "      <th></th>\n",
       "      <th>Ação 1</th>\n",
       "      <th>Ação 2</th>\n",
       "    </tr>\n",
       "  </thead>\n",
       "  <tbody>\n",
       "    <tr>\n",
       "      <th>Ação 1</th>\n",
       "      <td>1.000000</td>\n",
       "      <td>0.290819</td>\n",
       "    </tr>\n",
       "    <tr>\n",
       "      <th>Ação 2</th>\n",
       "      <td>0.290819</td>\n",
       "      <td>1.000000</td>\n",
       "    </tr>\n",
       "  </tbody>\n",
       "</table>\n",
       "</div>"
      ],
      "text/plain": [
       "          Ação 1    Ação 2\n",
       "Ação 1  1.000000  0.290819\n",
       "Ação 2  0.290819  1.000000"
      ]
     },
     "execution_count": 45,
     "metadata": {},
     "output_type": "execute_result"
    }
   ],
   "source": [
    "correlacao_pearson = df[['Ação 1', 'Ação 2']].corr()\n",
    "correlacao_pearson"
   ]
  },
  {
   "cell_type": "markdown",
   "id": "9632b137",
   "metadata": {},
   "source": [
    "Aqui, a correlação entre Ação 1 e Ação 2 é ≈ 0.29 → fraca, mas positiva. Ou seja, quando uma sobe, a outra até tende a subir também, mas o relacionamento não é muito forte."
   ]
  },
  {
   "cell_type": "markdown",
   "id": "93491eba",
   "metadata": {},
   "source": [
    "A correlação de um conjunto com ele mesmo é sempre 1"
   ]
  },
  {
   "cell_type": "markdown",
   "id": "2f1c5bb1",
   "metadata": {},
   "source": [
    "Adicionando as informações de correlação de pearson à tabela final"
   ]
  },
  {
   "cell_type": "code",
   "execution_count": 46,
   "id": "a9ae7a92",
   "metadata": {},
   "outputs": [
    {
     "data": {
      "text/html": [
       "<div>\n",
       "<style scoped>\n",
       "    .dataframe tbody tr th:only-of-type {\n",
       "        vertical-align: middle;\n",
       "    }\n",
       "\n",
       "    .dataframe tbody tr th {\n",
       "        vertical-align: top;\n",
       "    }\n",
       "\n",
       "    .dataframe thead th {\n",
       "        text-align: right;\n",
       "    }\n",
       "</style>\n",
       "<table border=\"1\" class=\"dataframe\">\n",
       "  <thead>\n",
       "    <tr style=\"text-align: right;\">\n",
       "      <th></th>\n",
       "      <th>N° Observações</th>\n",
       "      <th>Média</th>\n",
       "      <th>Mediana</th>\n",
       "      <th>Moda</th>\n",
       "      <th>1° Quartil</th>\n",
       "      <th>3° Quartil</th>\n",
       "      <th>8° Decil</th>\n",
       "      <th>9° Decil</th>\n",
       "      <th>27° Percentil</th>\n",
       "      <th>64° Percentil</th>\n",
       "      <th>Valor Mínimo</th>\n",
       "      <th>Valor Máximo</th>\n",
       "      <th>Amplitude</th>\n",
       "      <th>Variância</th>\n",
       "      <th>Desvio Padrão</th>\n",
       "      <th>Erro Padrão</th>\n",
       "      <th>Coeficiente de Variação</th>\n",
       "      <th>Correlação com outra Ação</th>\n",
       "    </tr>\n",
       "  </thead>\n",
       "  <tbody>\n",
       "    <tr>\n",
       "      <th>Ação 1</th>\n",
       "      <td>23</td>\n",
       "      <td>0.035204</td>\n",
       "      <td>0.0370</td>\n",
       "      <td>0    -0.2018\n",
       "1    -0.1591\n",
       "2    -0.1111\n",
       "3    -0...</td>\n",
       "      <td>-0.0612</td>\n",
       "      <td>0.11605</td>\n",
       "      <td>0.12596</td>\n",
       "      <td>0.22350</td>\n",
       "      <td>-0.05636</td>\n",
       "      <td>0.076312</td>\n",
       "      <td>-0.2018</td>\n",
       "      <td>0.2814</td>\n",
       "      <td>0.4832</td>\n",
       "      <td>0.016698</td>\n",
       "      <td>0.129221</td>\n",
       "      <td>0.026944</td>\n",
       "      <td>3.670591</td>\n",
       "      <td>0.290819</td>\n",
       "    </tr>\n",
       "    <tr>\n",
       "      <th>Ação 2</th>\n",
       "      <td>23</td>\n",
       "      <td>0.151135</td>\n",
       "      <td>0.1248</td>\n",
       "      <td>0    -0.1490\n",
       "1    -0.1410\n",
       "2    -0.1059\n",
       "3    -0...</td>\n",
       "      <td>0.0204</td>\n",
       "      <td>0.23330</td>\n",
       "      <td>0.26190</td>\n",
       "      <td>0.42796</td>\n",
       "      <td>0.02084</td>\n",
       "      <td>0.182500</td>\n",
       "      <td>-0.1490</td>\n",
       "      <td>0.6260</td>\n",
       "      <td>0.7750</td>\n",
       "      <td>0.041544</td>\n",
       "      <td>0.203822</td>\n",
       "      <td>0.042500</td>\n",
       "      <td>1.348613</td>\n",
       "      <td>0.290819</td>\n",
       "    </tr>\n",
       "  </tbody>\n",
       "</table>\n",
       "</div>"
      ],
      "text/plain": [
       "        N° Observações     Média  Mediana  \\\n",
       "Ação 1              23  0.035204   0.0370   \n",
       "Ação 2              23  0.151135   0.1248   \n",
       "\n",
       "                                                     Moda  1° Quartil  \\\n",
       "Ação 1  0    -0.2018\n",
       "1    -0.1591\n",
       "2    -0.1111\n",
       "3    -0...     -0.0612   \n",
       "Ação 2  0    -0.1490\n",
       "1    -0.1410\n",
       "2    -0.1059\n",
       "3    -0...      0.0204   \n",
       "\n",
       "        3° Quartil  8° Decil  9° Decil  27° Percentil  64° Percentil  \\\n",
       "Ação 1     0.11605   0.12596   0.22350       -0.05636       0.076312   \n",
       "Ação 2     0.23330   0.26190   0.42796        0.02084       0.182500   \n",
       "\n",
       "        Valor Mínimo  Valor Máximo  Amplitude  Variância  Desvio Padrão  \\\n",
       "Ação 1       -0.2018        0.2814     0.4832   0.016698       0.129221   \n",
       "Ação 2       -0.1490        0.6260     0.7750   0.041544       0.203822   \n",
       "\n",
       "        Erro Padrão  Coeficiente de Variação  Correlação com outra Ação  \n",
       "Ação 1     0.026944                 3.670591                   0.290819  \n",
       "Ação 2     0.042500                 1.348613                   0.290819  "
      ]
     },
     "execution_count": 46,
     "metadata": {},
     "output_type": "execute_result"
    }
   ],
   "source": [
    "tab_final['Correlação com outra Ação'] = [correlacao_pearson.loc['Ação 1', 'Ação 2'],\n",
    "                                          correlacao_pearson.loc['Ação 2', 'Ação 1']]\n",
    "tab_final"
   ]
  },
  {
   "cell_type": "markdown",
   "id": "9e6cb349",
   "metadata": {},
   "source": [
    "## Estatística T de Correlação usando as formulas prontas do Python"
   ]
  },
  {
   "cell_type": "markdown",
   "id": "28830c15",
   "metadata": {},
   "source": [
    "Essa amostra tem relevancia estatística ? Vamos testar a sua significância estatística."
   ]
  },
  {
   "cell_type": "markdown",
   "id": "6d839930",
   "metadata": {},
   "source": [
    "### Graus de Liberdade"
   ]
  },
  {
   "cell_type": "code",
   "execution_count": 47,
   "id": "fa0c2cdd",
   "metadata": {},
   "outputs": [
    {
     "data": {
      "text/plain": [
       "21"
      ]
     },
     "execution_count": 47,
     "metadata": {},
     "output_type": "execute_result"
    }
   ],
   "source": [
    "n = len(df)\n",
    "\n",
    "gl = n - 2\n",
    "gl"
   ]
  },
  {
   "cell_type": "markdown",
   "id": "dcb779d6",
   "metadata": {},
   "source": [
    "### Nível de significância "
   ]
  },
  {
   "cell_type": "code",
   "execution_count": 48,
   "id": "66a3d92d",
   "metadata": {},
   "outputs": [],
   "source": [
    "alpha = 0.05"
   ]
  },
  {
   "cell_type": "markdown",
   "id": "4861efc5",
   "metadata": {},
   "source": [
    "### Estatistica t"
   ]
  },
  {
   "cell_type": "code",
   "execution_count": 49,
   "id": "2d6af3b3",
   "metadata": {},
   "outputs": [],
   "source": [
    "x = df['Ação 1']\n",
    "y = df['Ação 2']\n",
    "\n",
    "r, p_valor = pearsonr(x, y)\n",
    "\n",
    "t_calc = r * np.sqrt(gl / (1 - r**2))"
   ]
  },
  {
   "cell_type": "code",
   "execution_count": 50,
   "id": "4098fab3",
   "metadata": {},
   "outputs": [
    {
     "name": "stdout",
     "output_type": "stream",
     "text": [
      "Correlação r = 0.2908\n",
      "t_calc = 1.3929\n",
      "p-valor = 0.1782\n"
     ]
    }
   ],
   "source": [
    "print(f\"Correlação r = {r:.4f}\")\n",
    "print(f\"t_calc = {t_calc:.4f}\")\n",
    "print(f\"p-valor = {p_valor:.4f}\")"
   ]
  },
  {
   "cell_type": "markdown",
   "id": "0253c994",
   "metadata": {},
   "source": [
    "### Teste de hipótese"
   ]
  },
  {
   "cell_type": "markdown",
   "id": "14b12310",
   "metadata": {},
   "source": [
    "A lógica é a seguinte: O teste tenta verificar se H0 é verdadeiro, ou seja, se não há correlação.\n",
    "\n",
    "H₀: Não há correlação (𝑟=0)\n",
    "\n",
    "H₁: Há correlação (𝑟≠0)\n",
    "\n",
    "Então, testamos se o p_valor é menor que o nível de significância (0.05). Se for, eu rejeito H0. Ou seja, existe correlação relevante."
   ]
  },
  {
   "cell_type": "markdown",
   "id": "b20369d1",
   "metadata": {},
   "source": [
    "Diferenças entre teste de hipotese bicaudal para unicaudal\n",
    "\n",
    "**Bicaudal**:\n",
    "\n",
    "H₀: Não há correlação (𝑟=0)\n",
    "\n",
    "H₁: Há correlação (𝑟≠0)\n",
    "<br><br>\n",
    "\n",
    "\n",
    "**Unicaudal (cauda à direita)**:\n",
    "\n",
    "H₀: Não há correlação (𝑟=0)\n",
    "\n",
    "H₁: Há correlação (𝑟>0)\n",
    "<br><br>\n",
    "\n",
    "\n",
    "**Unicaudal (cauda à direita)**:\n",
    "\n",
    "H₀: Não há correlação (𝑟=0)\n",
    "\n",
    "H₁: Há correlação (𝑟<0)"
   ]
  },
  {
   "cell_type": "markdown",
   "id": "80a6edec",
   "metadata": {},
   "source": [
    "<h3>A diferença prática no p-valor:</h3>\n",
    "\n",
    "O cálculo do p-valor é o mesmo para o teste bicaudal e o teste únicaudal. A diferença está na interpretação do p-valor. No teste bicaudal, o p-valor leva em conta tanto a possibilidade de correlação positiva quanto negativa, já no teste únicaudal, o p-valor leva em consideração apenas a direção que você está testando.\n",
    "\n",
    "Porém, ao usar o p-valor:\n",
    "\n",
    "**Bicaudal**:\n",
    "\n",
    "O p-valor testa se a correlação é diferente de zero (positivo ou negativo).\n",
    "\n",
    "A comparação com 𝛼=0.05 vai decidir se rejeita a hipótese nula caso o p-valor seja menor que 0.05.\n",
    "\n",
    "**Únicaudal**:\n",
    "\n",
    "O p-valor é ajustado pela direção que você está testando.\n",
    "\n",
    "Em um teste únicaudal, o p-valor é dividido por 2 caso você esteja testando uma cauda (ou seja, para 𝑟>0 ou 𝑟<0)."
   ]
  },
  {
   "cell_type": "code",
   "execution_count": 51,
   "id": "dc85544b",
   "metadata": {},
   "outputs": [
    {
     "name": "stdout",
     "output_type": "stream",
     "text": [
      "Não se rejeita H0: a correlação não é estatisticamente significativa.\n"
     ]
    }
   ],
   "source": [
    "if p_valor < alpha:\n",
    "    print(\"Rejeita-se H0: a correlação é estatisticamente significativa.\")\n",
    "else:\n",
    "    print(\"Não se rejeita H0: a correlação não é estatisticamente significativa.\")"
   ]
  },
  {
   "cell_type": "markdown",
   "id": "f577eeb6",
   "metadata": {},
   "source": [
    "Não é o caso da curva analisada do exercício, MAS se fosse um teste unicaudal, a validação deveria ser feita dessa forma:"
   ]
  },
  {
   "cell_type": "markdown",
   "id": "d991c1ad",
   "metadata": {},
   "source": [
    "Para **Unicaudal positivo**"
   ]
  },
  {
   "cell_type": "code",
   "execution_count": 52,
   "id": "4b286fe5",
   "metadata": {},
   "outputs": [
    {
     "name": "stdout",
     "output_type": "stream",
     "text": [
      "Não se rejeita H0: A correlação não é significativa ou negativa.\n"
     ]
    }
   ],
   "source": [
    "if p_valor / 2 < alpha and r > 0:\n",
    "    print(\"Rejeita-se H0: A correlação é significativa e positiva (r > 0).\")\n",
    "else:\n",
    "    print(\"Não se rejeita H0: A correlação não é significativa ou negativa.\")"
   ]
  },
  {
   "cell_type": "markdown",
   "id": "00e7a2d7",
   "metadata": {},
   "source": [
    "Para **Unicaudal negativo**"
   ]
  },
  {
   "cell_type": "code",
   "execution_count": 53,
   "id": "437e8e31",
   "metadata": {},
   "outputs": [
    {
     "name": "stdout",
     "output_type": "stream",
     "text": [
      "Não se rejeita H0: A correlação não é significativa ou negativa.\n"
     ]
    }
   ],
   "source": [
    "if p_valor / 2 < alpha and r < 0:\n",
    "    print(\"Rejeita-se H0: A correlação é significativa e negativa (r < 0).\")\n",
    "else:\n",
    "    print(\"Não se rejeita H0: A correlação não é significativa ou negativa.\")"
   ]
  },
  {
   "cell_type": "markdown",
   "id": "c917a9db",
   "metadata": {},
   "source": [
    "## Estatística T de Correlação usando as formulas prontas sem usar as funções prontas."
   ]
  },
  {
   "cell_type": "code",
   "execution_count": 54,
   "id": "e5ca9ba8",
   "metadata": {},
   "outputs": [
    {
     "name": "stdout",
     "output_type": "stream",
     "text": [
      "t_calc: 1.3929\n",
      "t_critico (alpha = 0.05): ±2.0796\n",
      "p-valor: 0.1782\n",
      "Não rejeita H0: a correlação não é estatisticamente significativa.\n"
     ]
    }
   ],
   "source": [
    "# Dados\n",
    "r = correlacao_pearson.loc['Ação 1', 'Ação 2']\n",
    "n = len(df)  # número de observações\n",
    "gl = n - 2 # graus de liberdade\n",
    "alpha = 0.05 # nível de significância\n",
    "\n",
    "# 1. Calcular t_calc manualmente\n",
    "numerador = r * math.sqrt(gl)\n",
    "denominador = math.sqrt(1 - r**2)\n",
    "t_calc = numerador / denominador\n",
    "\n",
    "# 2. Calcular t_critico para teste bilateral\n",
    "t_critico = t.ppf(1 - alpha / 2, gl)\n",
    "\n",
    "# 3. Calcular p-valor manualmente (usando fórmula da distribuição t)\n",
    "p_valor = 2 * (1 - t.cdf(abs(t_calc), gl))\n",
    "\n",
    "print(f\"t_calc: {t_calc:.4f}\")\n",
    "print(f\"t_critico (alpha = 0.05): ±{t_critico:.4f}\")\n",
    "print(f\"p-valor: {p_valor:.4f}\")\n",
    "\n",
    "# 4. Decisão\n",
    "if abs(t_calc) > t_critico:\n",
    "    print(\"Rejeita H0: a correlação é estatisticamente significativa.\")\n",
    "else:\n",
    "    print(\"Não rejeita H0: a correlação não é estatisticamente significativa.\")\n"
   ]
  }
 ],
 "metadata": {
  "kernelspec": {
   "display_name": "Python 3",
   "language": "python",
   "name": "python3"
  },
  "language_info": {
   "codemirror_mode": {
    "name": "ipython",
    "version": 3
   },
   "file_extension": ".py",
   "mimetype": "text/x-python",
   "name": "python",
   "nbconvert_exporter": "python",
   "pygments_lexer": "ipython3",
   "version": "3.11.9"
  }
 },
 "nbformat": 4,
 "nbformat_minor": 5
}
