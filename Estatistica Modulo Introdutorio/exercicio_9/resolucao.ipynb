{
 "cells": [
  {
   "cell_type": "markdown",
   "id": "d8c17c3d",
   "metadata": {},
   "source": [
    "# Enunciado"
   ]
  },
  {
   "cell_type": "markdown",
   "id": "c7000ba3",
   "metadata": {},
   "source": [
    "Deseja-se comparar o tempo médio \n",
    "de espera para atendimento (min) em 2 hospitais. Para isso, coletou-se uma \n",
    "amostra com 20 pacientes em cada hospital. Verifique se há diferenças entre \n",
    "os tempos médios de espera nos dois hospitais. Considere α = 1%. \n",
    "Adicionalmente, calcule os intervalos de confiança para o tempo médio de \n",
    "espera nos dois hospitais. "
   ]
  },
  {
   "cell_type": "markdown",
   "id": "a742388c",
   "metadata": {},
   "source": [
    "# Imports"
   ]
  },
  {
   "cell_type": "code",
   "execution_count": 1,
   "id": "5e4f24dc",
   "metadata": {},
   "outputs": [],
   "source": [
    "import pandas as pd\n",
    "from scipy.stats import f, ttest_ind, t\n",
    "import math"
   ]
  },
  {
   "cell_type": "markdown",
   "id": "c59af0f6",
   "metadata": {},
   "source": []
  },
  {
   "cell_type": "markdown",
   "id": "4b05c27f",
   "metadata": {},
   "source": [
    "# Leitura dos dados"
   ]
  },
  {
   "cell_type": "code",
   "execution_count": 2,
   "id": "01ac18a6",
   "metadata": {},
   "outputs": [
    {
     "data": {
      "text/html": [
       "<div>\n",
       "<style scoped>\n",
       "    .dataframe tbody tr th:only-of-type {\n",
       "        vertical-align: middle;\n",
       "    }\n",
       "\n",
       "    .dataframe tbody tr th {\n",
       "        vertical-align: top;\n",
       "    }\n",
       "\n",
       "    .dataframe thead th {\n",
       "        text-align: right;\n",
       "    }\n",
       "</style>\n",
       "<table border=\"1\" class=\"dataframe\">\n",
       "  <thead>\n",
       "    <tr style=\"text-align: right;\">\n",
       "      <th></th>\n",
       "      <th>Hospital A</th>\n",
       "      <th>Hospital B</th>\n",
       "    </tr>\n",
       "  </thead>\n",
       "  <tbody>\n",
       "    <tr>\n",
       "      <th>0</th>\n",
       "      <td>72</td>\n",
       "      <td>66</td>\n",
       "    </tr>\n",
       "    <tr>\n",
       "      <th>1</th>\n",
       "      <td>58</td>\n",
       "      <td>40</td>\n",
       "    </tr>\n",
       "    <tr>\n",
       "      <th>2</th>\n",
       "      <td>91</td>\n",
       "      <td>55</td>\n",
       "    </tr>\n",
       "    <tr>\n",
       "      <th>3</th>\n",
       "      <td>88</td>\n",
       "      <td>70</td>\n",
       "    </tr>\n",
       "    <tr>\n",
       "      <th>4</th>\n",
       "      <td>70</td>\n",
       "      <td>76</td>\n",
       "    </tr>\n",
       "    <tr>\n",
       "      <th>5</th>\n",
       "      <td>76</td>\n",
       "      <td>61</td>\n",
       "    </tr>\n",
       "    <tr>\n",
       "      <th>6</th>\n",
       "      <td>98</td>\n",
       "      <td>53</td>\n",
       "    </tr>\n",
       "    <tr>\n",
       "      <th>7</th>\n",
       "      <td>101</td>\n",
       "      <td>50</td>\n",
       "    </tr>\n",
       "    <tr>\n",
       "      <th>8</th>\n",
       "      <td>65</td>\n",
       "      <td>47</td>\n",
       "    </tr>\n",
       "    <tr>\n",
       "      <th>9</th>\n",
       "      <td>73</td>\n",
       "      <td>61</td>\n",
       "    </tr>\n",
       "    <tr>\n",
       "      <th>10</th>\n",
       "      <td>79</td>\n",
       "      <td>52</td>\n",
       "    </tr>\n",
       "    <tr>\n",
       "      <th>11</th>\n",
       "      <td>82</td>\n",
       "      <td>48</td>\n",
       "    </tr>\n",
       "    <tr>\n",
       "      <th>12</th>\n",
       "      <td>80</td>\n",
       "      <td>60</td>\n",
       "    </tr>\n",
       "    <tr>\n",
       "      <th>13</th>\n",
       "      <td>91</td>\n",
       "      <td>72</td>\n",
       "    </tr>\n",
       "    <tr>\n",
       "      <th>14</th>\n",
       "      <td>93</td>\n",
       "      <td>57</td>\n",
       "    </tr>\n",
       "    <tr>\n",
       "      <th>15</th>\n",
       "      <td>88</td>\n",
       "      <td>70</td>\n",
       "    </tr>\n",
       "    <tr>\n",
       "      <th>16</th>\n",
       "      <td>97</td>\n",
       "      <td>66</td>\n",
       "    </tr>\n",
       "    <tr>\n",
       "      <th>17</th>\n",
       "      <td>83</td>\n",
       "      <td>55</td>\n",
       "    </tr>\n",
       "    <tr>\n",
       "      <th>18</th>\n",
       "      <td>71</td>\n",
       "      <td>46</td>\n",
       "    </tr>\n",
       "    <tr>\n",
       "      <th>19</th>\n",
       "      <td>74</td>\n",
       "      <td>51</td>\n",
       "    </tr>\n",
       "  </tbody>\n",
       "</table>\n",
       "</div>"
      ],
      "text/plain": [
       "    Hospital A  Hospital B\n",
       "0           72          66\n",
       "1           58          40\n",
       "2           91          55\n",
       "3           88          70\n",
       "4           70          76\n",
       "5           76          61\n",
       "6           98          53\n",
       "7          101          50\n",
       "8           65          47\n",
       "9           73          61\n",
       "10          79          52\n",
       "11          82          48\n",
       "12          80          60\n",
       "13          91          72\n",
       "14          93          57\n",
       "15          88          70\n",
       "16          97          66\n",
       "17          83          55\n",
       "18          71          46\n",
       "19          74          51"
      ]
     },
     "execution_count": 2,
     "metadata": {},
     "output_type": "execute_result"
    }
   ],
   "source": [
    "alpha = 0.01\n",
    "\n",
    "df = pd.read_excel('dados.xlsx')\n",
    "df"
   ]
  },
  {
   "cell_type": "markdown",
   "id": "711957e4",
   "metadata": {},
   "source": [
    "# Resolução"
   ]
  },
  {
   "cell_type": "code",
   "execution_count": 3,
   "id": "90653870",
   "metadata": {},
   "outputs": [
    {
     "name": "stdout",
     "output_type": "stream",
     "text": [
      "Media Hospital A: 81.5\n",
      "Media Hospital B: 57.8\n"
     ]
    }
   ],
   "source": [
    "media_hospital_A = df['Hospital A'].mean()\n",
    "media_hospital_B = df['Hospital B'].mean()\n",
    "\n",
    "print(f\"Media Hospital A: {media_hospital_A}\")\n",
    "print(f\"Media Hospital B: {media_hospital_B}\")"
   ]
  },
  {
   "cell_type": "markdown",
   "id": "3cd3d37d",
   "metadata": {},
   "source": [
    "Aparentemente, a média de tempo de atendimento do hospital A é bem maior que do hospital B. Vamos ver se essa amostra tem relevância estatística."
   ]
  },
  {
   "cell_type": "markdown",
   "id": "e96251b9",
   "metadata": {},
   "source": [
    " Vamos aplicar o teste T, que compara de médias em duas amostras independentes. Para a aplicação do teste T, é necessario verificar se as variancias são homogeneas, então teremos que fazer o teste F antes."
   ]
  },
  {
   "cell_type": "markdown",
   "id": "4c514e2d",
   "metadata": {},
   "source": [
    "## Teste F"
   ]
  },
  {
   "cell_type": "code",
   "execution_count": 4,
   "id": "2bfa51da",
   "metadata": {},
   "outputs": [
    {
     "name": "stdout",
     "output_type": "stream",
     "text": [
      "Variancia Hospital A: 137.73684210526315\n",
      "Variancia Hospital B: 96.80000000000001\n"
     ]
    }
   ],
   "source": [
    "var_hospital_A = df['Hospital A'].var()\n",
    "var_hospital_B = df['Hospital B'].var()\n",
    "\n",
    "print(f\"Variancia Hospital A: {var_hospital_A}\")\n",
    "print(f\"Variancia Hospital B: {var_hospital_B}\")"
   ]
  },
  {
   "cell_type": "code",
   "execution_count": 5,
   "id": "a3127c20",
   "metadata": {},
   "outputs": [
    {
     "name": "stdout",
     "output_type": "stream",
     "text": [
      "Variância de A é maior ou igual à variância de B.\n",
      "Estatística F: 1.4229012614180077\n",
      "Graus de liberdade do numerador: 19\n",
      "Graus de liberdade do denominador: 19\n"
     ]
    }
   ],
   "source": [
    "dados_hospital_a = df['Hospital A']\n",
    "dados_hospital_b = df['Hospital B']\n",
    "\n",
    "# Calcular a estatística F\n",
    "# Por convenção, a maior variância vai no numerador\n",
    "if var_hospital_A >= var_hospital_B:\n",
    "    f_calculado = var_hospital_A / var_hospital_B\n",
    "    gl_num = len(dados_hospital_a) - 1\n",
    "    gl_den = len(dados_hospital_b) - 1\n",
    "    print(\"Variância de A é maior ou igual à variância de B.\")\n",
    "else:\n",
    "    f_calculado = var_hospital_B / var_hospital_A\n",
    "    gl_num = len(dados_hospital_b) - 1\n",
    "    gl_den = len(dados_hospital_a) - 1\n",
    "    print(\"Variância de B é maior que a variância de A.\")\n",
    "\n",
    "print(f\"Estatística F: {f_calculado}\")\n",
    "print(f\"Graus de liberdade do numerador: {gl_num}\")\n",
    "print(f\"Graus de liberdade do denominador: {gl_den}\")"
   ]
  },
  {
   "cell_type": "code",
   "execution_count": 6,
   "id": "cb01b877",
   "metadata": {},
   "outputs": [
    {
     "name": "stdout",
     "output_type": "stream",
     "text": [
      "P-valor: 0.22460949688391565\n",
      "Não rejeitamos a hipótese nula de que as variâncias são iguais.\n"
     ]
    }
   ],
   "source": [
    "p_value = f.sf(f_calculado, gl_num, gl_den) # sf = 1 - cdf\n",
    "print(f\"P-valor: {p_value}\")\n",
    "\n",
    "if p_value < alpha:\n",
    "    print(\"Rejeitamos a hipótese nula de que as variâncias são iguais.\")\n",
    "else:\n",
    "    print(\"Não rejeitamos a hipótese nula de que as variâncias são iguais.\")"
   ]
  },
  {
   "cell_type": "markdown",
   "id": "7b6f865f",
   "metadata": {},
   "source": [
    "Como não rejeitamos H0, então a variância das duas amostras é homogenêa"
   ]
  },
  {
   "cell_type": "markdown",
   "id": "e43e51db",
   "metadata": {},
   "source": [
    "Como a variância é homogenea, iremos fazer o teste T segundo esse critério"
   ]
  },
  {
   "cell_type": "markdown",
   "id": "1c328684",
   "metadata": {},
   "source": [
    "## Teste T"
   ]
  },
  {
   "cell_type": "code",
   "execution_count": 7,
   "id": "b9612ad1",
   "metadata": {},
   "outputs": [
    {
     "name": "stdout",
     "output_type": "stream",
     "text": [
      "Estatística t: 6.920824033665959\n",
      "Valor-p: 3.147827649441996e-08\n",
      "Rejeita H0\n"
     ]
    }
   ],
   "source": [
    "# Aplicando o teste t para amostras independentes com variâncias iguais/homogeneas\n",
    "t_calc, p_valor = ttest_ind(dados_hospital_a, dados_hospital_b, equal_var=True)\n",
    "\n",
    "print(f\"Estatística t: {t_calc}\")\n",
    "print(f\"Valor-p: {p_valor}\")\n",
    "\n",
    "if p_valor < alpha:\n",
    "    print(\"Rejeita H0\")\n",
    "else:\n",
    "    print(\"Não rejeita H0\")"
   ]
  },
  {
   "cell_type": "markdown",
   "id": "2a06ffc0",
   "metadata": {},
   "source": [
    "Rejeita-se a hipótese nula (H0). Isso significa que, ao nível de significância α utilizado, existe evidência estatística suficiente para concluir que há uma diferença significativa no tempo médio de espera entre o Hospital A e o Hospital B."
   ]
  },
  {
   "cell_type": "markdown",
   "id": "0e415195",
   "metadata": {},
   "source": [
    "De fato, a diferença no tempo médio de espera entre os dois hospitais é estatisticamente significativa."
   ]
  },
  {
   "cell_type": "markdown",
   "id": "da54f805",
   "metadata": {},
   "source": [
    "# Intervalo de confiança"
   ]
  },
  {
   "cell_type": "code",
   "execution_count": 11,
   "id": "f69f24ae",
   "metadata": {},
   "outputs": [],
   "source": [
    "def calcular_intervalo_confianca_t(media, desvio_padrao, t_critico, n):\n",
    "    erro_padrao = desvio_padrao / math.sqrt(n)\n",
    "    intervalo = (media - t_critico * erro_padrao, media + t_critico * erro_padrao)\n",
    "    return intervalo"
   ]
  },
  {
   "cell_type": "code",
   "execution_count": 9,
   "id": "69025c81",
   "metadata": {},
   "outputs": [
    {
     "name": "stdout",
     "output_type": "stream",
     "text": [
      "\n",
      "--- Cálculo do t crítico ---\n",
      "Nível de significância (alpha): 0.01\n",
      "Graus de liberdade (gl): 38\n",
      "t crítico positivo: 2.712\n",
      "t crítico negativo: -2.712\n"
     ]
    }
   ],
   "source": [
    "# --- Calculando o t crítico ---\n",
    "\n",
    "# 1. Obtenha os tamanhos das amostras\n",
    "n_a = len(dados_hospital_a)\n",
    "n_b = len(dados_hospital_b)\n",
    "\n",
    "# 2. Calcule os graus de liberdade (gl)\n",
    "gl = n_a + n_b - 2\n",
    "\n",
    "# 3. Calcule o t crítico\n",
    "# Para um teste bilateral, há dois valores críticos: um positivo e um negativo.\n",
    "# A função ppf(q, df) retorna o valor t tal que P(T <= t) = q.\n",
    "\n",
    "# Para o valor t crítico positivo (que deixa alpha/2 na cauda superior):\n",
    "t_critico_positivo = t.ppf(1 - alpha / 2, gl)\n",
    "\n",
    "# Para o valor t crítico negativo (que deixa alpha/2 na cauda inferior):\n",
    "t_critico_negativo = t.ppf(alpha / 2, gl)\n",
    "# Alternativamente: t_critico_negativo = -t_critico_positivo\n",
    "\n",
    "print(f\"\\n--- Cálculo do t crítico ---\")\n",
    "print(f\"Nível de significância (alpha): {alpha}\")\n",
    "print(f\"Graus de liberdade (gl): {gl}\")\n",
    "print(f\"t crítico positivo: {t_critico_positivo:.3f}\")\n",
    "print(f\"t crítico negativo: {t_critico_negativo:.3f}\")"
   ]
  },
  {
   "cell_type": "markdown",
   "id": "d66a8190",
   "metadata": {},
   "source": [
    "Para calcular o intervalo de confiança para cada hospital, **é necessário calcular o t critico INDIVIDUALMENTE**"
   ]
  },
  {
   "cell_type": "code",
   "execution_count": null,
   "id": "6ee95d01",
   "metadata": {},
   "outputs": [
    {
     "name": "stdout",
     "output_type": "stream",
     "text": [
      "Intervalo de confiança hospital A: (73.99210839145069, 89.00789160854931)\n",
      "Intervalo de confiança hospital B: (51.50594386581019, 64.09405613418981)\n"
     ]
    }
   ],
   "source": [
    "# Para o Hospital A\n",
    "gl_a = n_a - 1\n",
    "desvio_padrao_hospital_A = math.sqrt(var_hospital_A)\n",
    "t_critico_hospital_a = t.ppf(1 - alpha / 2, gl_a)\n",
    "ic_a = calcular_intervalo_confianca_t(media_hospital_A, desvio_padrao_hospital_A, t_critico_hospital_a, n_a)\n",
    "print(f\"Intervalo de confiança hospital A: {ic_a}\")\n",
    "\n",
    "# Para o Hospital B\n",
    "gl_b = n_b - 1\n",
    "desvio_padrao_hospital_B = math.sqrt(var_hospital_B)\n",
    "t_critico_hospital_b = t.ppf(1 - alpha / 2, gl_b)\n",
    "ic_b = calcular_intervalo_confianca_t(media_hospital_B, desvio_padrao_hospital_B, t_critico_hospital_b, n_b)\n",
    "print(f\"Intervalo de confiança hospital B: {ic_b}\")"
   ]
  }
 ],
 "metadata": {
  "kernelspec": {
   "display_name": "Python 3",
   "language": "python",
   "name": "python3"
  },
  "language_info": {
   "codemirror_mode": {
    "name": "ipython",
    "version": 3
   },
   "file_extension": ".py",
   "mimetype": "text/x-python",
   "name": "python",
   "nbconvert_exporter": "python",
   "pygments_lexer": "ipython3",
   "version": "3.11.9"
  }
 },
 "nbformat": 4,
 "nbformat_minor": 5
}
