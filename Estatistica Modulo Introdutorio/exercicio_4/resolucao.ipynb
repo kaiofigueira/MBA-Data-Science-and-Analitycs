{
 "cells": [
  {
   "cell_type": "markdown",
   "id": "d8c17c3d",
   "metadata": {},
   "source": [
    "# Enunciado"
   ]
  },
  {
   "cell_type": "markdown",
   "id": "c7000ba3",
   "metadata": {},
   "source": [
    "(Fonte: Fávero e Belfiore, 2024, Cap. 5) Suponha que um aluno acerte três \n",
    "questões a cada cinco testes. Seja X o número de tentativas até o décimo \n",
    "segundo acerto. Determine a probabilidade de que o aluno precise fazer 20 \n",
    "questões para acertar 12.  \n",
    "<br><br>\n",
    "Parâmetros da dist. binomial negativa:\n",
    "\n",
    "p (probabilidade de sucesso) = 60%\n",
    "\n",
    "x (número de ensaios) = 20\n",
    "\n",
    "k (quantidade de sucessos de interesse) = 12\n",
    "\n",
    "Probabilidade (X=k) ?"
   ]
  },
  {
   "cell_type": "markdown",
   "id": "a742388c",
   "metadata": {},
   "source": [
    "# Imports"
   ]
  },
  {
   "cell_type": "code",
   "execution_count": 2,
   "id": "5e4f24dc",
   "metadata": {},
   "outputs": [],
   "source": [
    "from scipy.stats import nbinom"
   ]
  },
  {
   "cell_type": "markdown",
   "id": "4b05c27f",
   "metadata": {},
   "source": [
    "# Leitura dos dados"
   ]
  },
  {
   "cell_type": "code",
   "execution_count": 3,
   "id": "01ac18a6",
   "metadata": {},
   "outputs": [],
   "source": [
    "n = 20\n",
    "p = 0.6\n",
    "k = 12"
   ]
  },
  {
   "cell_type": "markdown",
   "id": "711957e4",
   "metadata": {},
   "source": [
    "# Resolução"
   ]
  },
  {
   "cell_type": "markdown",
   "id": "b2d37870",
   "metadata": {},
   "source": [
    "A notação do nbinom conta o número de falhas até o k-ésimo sucesso. Então temos que calcular o número de falhas para usa-lo na formula"
   ]
  },
  {
   "cell_type": "code",
   "execution_count": 5,
   "id": "f95cef82",
   "metadata": {},
   "outputs": [
    {
     "data": {
      "text/plain": [
       "8"
      ]
     },
     "execution_count": 5,
     "metadata": {},
     "output_type": "execute_result"
    }
   ],
   "source": [
    "falhas = n - k\n",
    "falhas"
   ]
  },
  {
   "cell_type": "code",
   "execution_count": null,
   "id": "2b177239",
   "metadata": {},
   "outputs": [
    {
     "name": "stdout",
     "output_type": "stream",
     "text": [
      "A probabilidade de obter o 12º sucesso no 20º ensaio é: 0.1078\n"
     ]
    }
   ],
   "source": [
    "prob = nbinom.pmf(falhas, k, p)\n",
    "print(f\"A probabilidade de obter o {k}º sucesso no {n}º ensaio é: {prob:.4f}\")"
   ]
  }
 ],
 "metadata": {
  "kernelspec": {
   "display_name": "Python 3",
   "language": "python",
   "name": "python3"
  },
  "language_info": {
   "codemirror_mode": {
    "name": "ipython",
    "version": 3
   },
   "file_extension": ".py",
   "mimetype": "text/x-python",
   "name": "python",
   "nbconvert_exporter": "python",
   "pygments_lexer": "ipython3",
   "version": "3.11.9"
  }
 },
 "nbformat": 4,
 "nbformat_minor": 5
}
