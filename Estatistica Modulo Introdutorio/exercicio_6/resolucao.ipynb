{
 "cells": [
  {
   "cell_type": "markdown",
   "id": "d8c17c3d",
   "metadata": {},
   "source": [
    "# Enunciado"
   ]
  },
  {
   "cell_type": "markdown",
   "id": "c7000ba3",
   "metadata": {},
   "source": [
    "Nos últimos meses, foram feitas medições do tempo decorrido entre o início \n",
    "e finalização de uma das etapas do processo de produção de certo produto. O \n",
    "tempo médio foi calculado em 26,5 minutos e o desvio padrão foi de 4,0 \n",
    "minutos. Sabendo que tal variável segue uma distribuição normal, identifique \n",
    "as seguintes informações: \n",
    "\n",
    "**Minutos**:\n",
    "\n",
    "Média = 26,50\t\n",
    "\n",
    "Desvio Padrão = 4,00\t\n",
    "<br><br>\n",
    "\t\t\n",
    "**a) Cálculo da estatistica de teste(Z) para os Xs apresentados:**\t\t\n",
    "\n",
    "a.1) Calcule P(Z>2,625), sabendo que x=37\n",
    "\n",
    "a.2) Calcule P(Z<-1,625), sabendo que x=20\n",
    "\n",
    "a.3) Calcule P(-1,125<Z<0,375), sabendo 22 > x > 28"
   ]
  },
  {
   "cell_type": "markdown",
   "id": "a742388c",
   "metadata": {},
   "source": [
    "# Imports"
   ]
  },
  {
   "cell_type": "code",
   "execution_count": 2,
   "id": "5e4f24dc",
   "metadata": {},
   "outputs": [],
   "source": [
    "from scipy.stats import norm"
   ]
  },
  {
   "cell_type": "markdown",
   "id": "4b05c27f",
   "metadata": {},
   "source": [
    "# Leitura dos dados"
   ]
  },
  {
   "cell_type": "code",
   "execution_count": 11,
   "id": "01ac18a6",
   "metadata": {},
   "outputs": [],
   "source": [
    "media = 26.5\n",
    "desvio_padrao = 4"
   ]
  },
  {
   "cell_type": "markdown",
   "id": "711957e4",
   "metadata": {},
   "source": [
    "# Resolução letra a"
   ]
  },
  {
   "cell_type": "code",
   "execution_count": 12,
   "id": "b5147c4b",
   "metadata": {},
   "outputs": [],
   "source": [
    "def calcular_z_score(x, media, desvio_padrao):\n",
    "    return round(((x - media) / desvio_padrao), 3)"
   ]
  },
  {
   "cell_type": "markdown",
   "id": "a1531e88",
   "metadata": {},
   "source": [
    "## a.1)"
   ]
  },
  {
   "cell_type": "code",
   "execution_count": 17,
   "id": "29744c9b",
   "metadata": {},
   "outputs": [
    {
     "name": "stdout",
     "output_type": "stream",
     "text": [
      "Z-score para x = 37 é: 2.625\n",
      "P(Z > 2.625) = 0.0043\n"
     ]
    }
   ],
   "source": [
    "x = 37\n",
    "z_score = calcular_z_score(x, media, desvio_padrao)\n",
    "\n",
    "print(\"Z-score para x =\", x, \"é:\", z_score)\n",
    "\n",
    "# P(Z>z_score)\n",
    "prob_maior_que_z = norm.sf(z_score)\n",
    "\n",
    "print(f\"P(Z > {z_score:.3f}) = {prob_maior_que_z:.4f}\")"
   ]
  },
  {
   "cell_type": "markdown",
   "id": "86853b07",
   "metadata": {},
   "source": [
    "## a.2)"
   ]
  },
  {
   "cell_type": "code",
   "execution_count": 18,
   "id": "8fadd116",
   "metadata": {},
   "outputs": [
    {
     "name": "stdout",
     "output_type": "stream",
     "text": [
      "Z-score para x = 20 é: -1.625\n",
      "P(Z > -1.625) = 0.9479\n"
     ]
    }
   ],
   "source": [
    "x = 20\n",
    "z_score = calcular_z_score(x, media, desvio_padrao)\n",
    "\n",
    "print(\"Z-score para x =\", x, \"é:\", z_score)\n",
    "\n",
    "# P(Z>z_score)\n",
    "prob_maior_que_z = norm.sf(z_score)\n",
    "\n",
    "print(f\"P(Z > {z_score:.3f}) = {prob_maior_que_z:.4f}\")"
   ]
  },
  {
   "attachments": {
    "image.png": {
     "image/png": "[encoded data removed]"
    }
   },
   "cell_type": "markdown",
   "id": "07831851",
   "metadata": {},
   "source": [
    "## a.3)\n",
    "\n",
    "![image.png](attachment:image.png)"
   ]
  },
  {
   "cell_type": "code",
   "execution_count": 23,
   "id": "774328a4",
   "metadata": {},
   "outputs": [
    {
     "name": "stdout",
     "output_type": "stream",
     "text": [
      "Z-score para x = 22 é: -1.125\n",
      "Z-score para x = 28 é: 0.375\n",
      "P(Z > -1.125) = 0.8697\n",
      "P(Z > 0.375) = 0.3538\n",
      "P(-1.125 < Z < 0.375) = 0.5159\n"
     ]
    }
   ],
   "source": [
    "x1 = 22\n",
    "z_score1 = calcular_z_score(x1, media, desvio_padrao)\n",
    "print(\"Z-score para x =\", x1, \"é:\", z_score1)\n",
    "\n",
    "x2 = 28\n",
    "z_score2 = calcular_z_score(x2, media, desvio_padrao)\n",
    "print(\"Z-score para x =\", x2, \"é:\", z_score2)\n",
    "\n",
    "# P(Z>z_score)\n",
    "prob_maior_que_z1 = norm.sf(z_score1)\n",
    "print(f\"P(Z > {z_score1:.3f}) = {prob_maior_que_z1:.4f}\")\n",
    "prob_maior_que_z2 = norm.sf(z_score2)\n",
    "print(f\"P(Z > {z_score2:.3f}) = {prob_maior_que_z2:.4f}\")\n",
    "\n",
    "prob_final = prob_maior_que_z1 - prob_maior_que_z2\n",
    "print(f\"P({z_score1:.3f} < Z < {z_score2:.3f}) = {prob_final:.4f}\")"
   ]
  }
 ],
 "metadata": {
  "kernelspec": {
   "display_name": "Python 3",
   "language": "python",
   "name": "python3"
  },
  "language_info": {
   "codemirror_mode": {
    "name": "ipython",
    "version": 3
   },
   "file_extension": ".py",
   "mimetype": "text/x-python",
   "name": "python",
   "nbconvert_exporter": "python",
   "pygments_lexer": "ipython3",
   "version": "3.11.9"
  }
 },
 "nbformat": 4,
 "nbformat_minor": 5
}
