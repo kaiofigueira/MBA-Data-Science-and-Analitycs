{
 "cells": [
  {
   "cell_type": "markdown",
   "id": "d8c17c3d",
   "metadata": {},
   "source": [
    "# Enunciado"
   ]
  },
  {
   "cell_type": "markdown",
   "id": "c7000ba3",
   "metadata": {},
   "source": [
    "Foram coletados dados sobre a quantidade de chuva por dia (em milímetros), \n",
    "durante 14 dias, para dois locais distintos. O pesquisador notou que o local A \n",
    "aparenta ter maior variabilidade na quantidade chuva, comparativamente ao \n",
    "local B. Neste sentido, deseja testar a hipótese de que a variabilidade na \n",
    "quantidade de chuva é significativamente maior em A do que em B. Realize o \n",
    "teste F para testar tal hipótese. "
   ]
  },
  {
   "cell_type": "markdown",
   "id": "a742388c",
   "metadata": {},
   "source": [
    "# Imports"
   ]
  },
  {
   "cell_type": "code",
   "execution_count": 1,
   "id": "5e4f24dc",
   "metadata": {},
   "outputs": [],
   "source": [
    "import pandas as pd\n",
    "from scipy.stats import f"
   ]
  },
  {
   "cell_type": "markdown",
   "id": "4b05c27f",
   "metadata": {},
   "source": [
    "# Leitura dos dados"
   ]
  },
  {
   "cell_type": "code",
   "execution_count": 2,
   "id": "01ac18a6",
   "metadata": {},
   "outputs": [
    {
     "data": {
      "text/html": [
       "<div>\n",
       "<style scoped>\n",
       "    .dataframe tbody tr th:only-of-type {\n",
       "        vertical-align: middle;\n",
       "    }\n",
       "\n",
       "    .dataframe tbody tr th {\n",
       "        vertical-align: top;\n",
       "    }\n",
       "\n",
       "    .dataframe thead th {\n",
       "        text-align: right;\n",
       "    }\n",
       "</style>\n",
       "<table border=\"1\" class=\"dataframe\">\n",
       "  <thead>\n",
       "    <tr style=\"text-align: right;\">\n",
       "      <th></th>\n",
       "      <th>Local A (mm)</th>\n",
       "      <th>Local B (mm)</th>\n",
       "    </tr>\n",
       "  </thead>\n",
       "  <tbody>\n",
       "    <tr>\n",
       "      <th>0</th>\n",
       "      <td>8.9</td>\n",
       "      <td>5.6</td>\n",
       "    </tr>\n",
       "    <tr>\n",
       "      <th>1</th>\n",
       "      <td>7.7</td>\n",
       "      <td>4.9</td>\n",
       "    </tr>\n",
       "    <tr>\n",
       "      <th>2</th>\n",
       "      <td>8.6</td>\n",
       "      <td>6.6</td>\n",
       "    </tr>\n",
       "    <tr>\n",
       "      <th>3</th>\n",
       "      <td>3.9</td>\n",
       "      <td>5.9</td>\n",
       "    </tr>\n",
       "    <tr>\n",
       "      <th>4</th>\n",
       "      <td>7.6</td>\n",
       "      <td>6.5</td>\n",
       "    </tr>\n",
       "    <tr>\n",
       "      <th>5</th>\n",
       "      <td>10.2</td>\n",
       "      <td>5.9</td>\n",
       "    </tr>\n",
       "    <tr>\n",
       "      <th>6</th>\n",
       "      <td>9.6</td>\n",
       "      <td>3.6</td>\n",
       "    </tr>\n",
       "    <tr>\n",
       "      <th>7</th>\n",
       "      <td>8.9</td>\n",
       "      <td>5.6</td>\n",
       "    </tr>\n",
       "    <tr>\n",
       "      <th>8</th>\n",
       "      <td>9.6</td>\n",
       "      <td>8.8</td>\n",
       "    </tr>\n",
       "    <tr>\n",
       "      <th>9</th>\n",
       "      <td>5.5</td>\n",
       "      <td>7.8</td>\n",
       "    </tr>\n",
       "    <tr>\n",
       "      <th>10</th>\n",
       "      <td>0.5</td>\n",
       "      <td>9.9</td>\n",
       "    </tr>\n",
       "    <tr>\n",
       "      <th>11</th>\n",
       "      <td>1.5</td>\n",
       "      <td>11.0</td>\n",
       "    </tr>\n",
       "    <tr>\n",
       "      <th>12</th>\n",
       "      <td>1.5</td>\n",
       "      <td>8.3</td>\n",
       "    </tr>\n",
       "    <tr>\n",
       "      <th>13</th>\n",
       "      <td>4.0</td>\n",
       "      <td>5.5</td>\n",
       "    </tr>\n",
       "  </tbody>\n",
       "</table>\n",
       "</div>"
      ],
      "text/plain": [
       "    Local A (mm)  Local B (mm)\n",
       "0            8.9           5.6\n",
       "1            7.7           4.9\n",
       "2            8.6           6.6\n",
       "3            3.9           5.9\n",
       "4            7.6           6.5\n",
       "5           10.2           5.9\n",
       "6            9.6           3.6\n",
       "7            8.9           5.6\n",
       "8            9.6           8.8\n",
       "9            5.5           7.8\n",
       "10           0.5           9.9\n",
       "11           1.5          11.0\n",
       "12           1.5           8.3\n",
       "13           4.0           5.5"
      ]
     },
     "execution_count": 2,
     "metadata": {},
     "output_type": "execute_result"
    }
   ],
   "source": [
    "alpha = 0.05 # Nível de significância\n",
    "\n",
    "df = pd.read_excel('dados.xlsx')\n",
    "df"
   ]
  },
  {
   "cell_type": "markdown",
   "id": "711957e4",
   "metadata": {},
   "source": [
    "# Resolução"
   ]
  },
  {
   "cell_type": "code",
   "execution_count": 3,
   "id": "82755aa1",
   "metadata": {},
   "outputs": [],
   "source": [
    "def calcular_coeficiente_variacao(media, desvio_padrao):\n",
    "    if media != 0:\n",
    "        return (desvio_padrao / media) * 100\n",
    "    else:\n",
    "        return None"
   ]
  },
  {
   "cell_type": "code",
   "execution_count": 4,
   "id": "98262b44",
   "metadata": {},
   "outputs": [
    {
     "name": "stdout",
     "output_type": "stream",
     "text": [
      "Variancia Local A (mm): 11.6044\n",
      "Variancia Local B (mm): 4.2027\n",
      "Coeficiente de Variacao Local A (mm): 54.1947%\n",
      "Coeficiente de Variacao Local B (mm): 29.9277%\n"
     ]
    }
   ],
   "source": [
    "var_local_a = df['Local A (mm)'].var()\n",
    "var_local_b = df['Local B (mm)'].var()\n",
    "\n",
    "print(f\"Variancia Local A (mm): {var_local_a:.4f}\")\n",
    "print(f\"Variancia Local B (mm): {var_local_b:.4f}\")\n",
    "\n",
    "media_local_a = df['Local A (mm)'].mean()\n",
    "media_local_b = df['Local B (mm)'].mean()\n",
    "desvio_padrao_local_a = df['Local A (mm)'].std()\n",
    "desvio_padrao_local_b = df['Local B (mm)'].std()\n",
    "coeficiente_variacao_local_a = calcular_coeficiente_variacao(media_local_a, desvio_padrao_local_a)\n",
    "coeficiente_variacao_local_b = calcular_coeficiente_variacao(media_local_b, desvio_padrao_local_b)\n",
    "\n",
    "print(f\"Coeficiente de Variacao Local A (mm): {coeficiente_variacao_local_a:.4f}%\")\n",
    "print(f\"Coeficiente de Variacao Local B (mm): {coeficiente_variacao_local_b:.4f}%\")"
   ]
  },
  {
   "cell_type": "markdown",
   "id": "704ea510",
   "metadata": {},
   "source": [
    "Para essa amostra, de fato, a variância de chuva do Local A é bem maior que do local B. "
   ]
  },
  {
   "cell_type": "code",
   "execution_count": null,
   "id": "05d0acc7",
   "metadata": {},
   "outputs": [
    {
     "name": "stdout",
     "output_type": "stream",
     "text": [
      "Variância de A é maior ou igual à variância de B.\n",
      "Estatística F: 2.761181346337381\n",
      "Graus de liberdade do numerador: 13\n",
      "Graus de liberdade do denominador: 13\n"
     ]
    }
   ],
   "source": [
    "local_a = df['Local A (mm)']\n",
    "local_b = df['Local B (mm)']\n",
    "\n",
    "# Calcular a estatística F\n",
    "# Por convenção, a maior variância vai no numerador\n",
    "if var_local_a >= var_local_b:\n",
    "    f_calculado = var_local_a / var_local_b\n",
    "    gl_num = len(local_a) - 1\n",
    "    gl_den = len(local_b) - 1\n",
    "    print(\"Variância de A é maior ou igual à variância de B.\")\n",
    "else:\n",
    "    f_calculado = var_local_b / var_local_a\n",
    "    gl_num = len(local_b) - 1\n",
    "    gl_den = len(local_a) - 1\n",
    "    print(\"Variância de B é maior que a variância de A.\")\n",
    "\n",
    "print(f\"Estatística F: {f_calculado}\")\n",
    "print(f\"Graus de liberdade do numerador: {gl_num}\")\n",
    "print(f\"Graus de liberdade do denominador: {gl_den}\")"
   ]
  },
  {
   "cell_type": "code",
   "execution_count": 6,
   "id": "369abd5b",
   "metadata": {},
   "outputs": [
    {
     "name": "stdout",
     "output_type": "stream",
     "text": [
      "P-valor: 0.03917205449902492\n",
      "Rejeitamos a hipótese nula de que as variâncias são iguais.\n"
     ]
    }
   ],
   "source": [
    "p_value = f.sf(f_calculado, gl_num, gl_den) # sf = 1 - cdf\n",
    "print(f\"P-valor: {p_value}\")\n",
    "\n",
    "if p_value < alpha:\n",
    "    print(\"Rejeitamos a hipótese nula de que as variâncias são iguais.\")\n",
    "else:\n",
    "    print(\"Não rejeitamos a hipótese nula de que as variâncias são iguais.\")"
   ]
  },
  {
   "cell_type": "markdown",
   "id": "76c5244b",
   "metadata": {},
   "source": [
    "Ou seja, a variabilidade de chuvas no local A é maior que no local B."
   ]
  },
  {
   "cell_type": "markdown",
   "id": "dc48759d",
   "metadata": {},
   "source": [
    "Caso queria fazer pelo F critico"
   ]
  },
  {
   "cell_type": "code",
   "execution_count": 7,
   "id": "b520fa6e",
   "metadata": {},
   "outputs": [
    {
     "name": "stdout",
     "output_type": "stream",
     "text": [
      "Para alpha = 0.05, como F calculado (2.7612) > F crítico (2.5769), rejeitamos H0 (as variâncias são diferentes).\n"
     ]
    }
   ],
   "source": [
    "f_critico = f.ppf(1 - alpha, gl_num, gl_den)\n",
    "\n",
    "if f_calculado > f_critico:\n",
    "    print(f\"Para alpha = 0.05, como F calculado ({f_calculado:.4f}) > F crítico ({f_critico:.4f}), rejeitamos H0 (as variâncias são diferentes).\")\n",
    "else:\n",
    "    print(f\"Para alpha = 0.05, como F calculado ({f_calculado:.4f}) <= F crítico ({f_critico:.4f}), não rejeitamos H0 (não há evidência suficiente para dizer que as variâncias são diferentes).\")"
   ]
  },
  {
   "attachments": {
    "image-2.png": {
     "image/png": "[encoded data removed]"
    },
    "image-3.png": {
     "image/png": "[encoded data removed]"
    },
    "image.png": {
     "image/png": "[encoded data removed]"
    }
   },
   "cell_type": "markdown",
   "id": "6536ef17",
   "metadata": {},
   "source": [
    "![image-3.png](attachment:image-3.png)"
   ]
  }
 ],
 "metadata": {
  "kernelspec": {
   "display_name": "Python 3",
   "language": "python",
   "name": "python3"
  },
  "language_info": {
   "codemirror_mode": {
    "name": "ipython",
    "version": 3
   },
   "file_extension": ".py",
   "mimetype": "text/x-python",
   "name": "python",
   "nbconvert_exporter": "python",
   "pygments_lexer": "ipython3",
   "version": "3.11.9"
  }
 },
 "nbformat": 4,
 "nbformat_minor": 5
}
