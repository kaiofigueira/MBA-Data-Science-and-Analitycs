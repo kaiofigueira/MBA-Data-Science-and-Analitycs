{
 "cells": [
  {
   "cell_type": "markdown",
   "id": "d8c17c3d",
   "metadata": {},
   "source": [
    "# Enunciado"
   ]
  },
  {
   "attachments": {
    "image.png": {
     "image/png": "[encoded data removed]"
    }
   },
   "cell_type": "markdown",
   "id": "c7000ba3",
   "metadata": {},
   "source": [
    "(Fonte: Fávero e Belfiore, 2024, Cap. 8) Um grupo de 60 leitores fez uma \n",
    "avaliação de três livros de romance e, ao final, escolheram uma das três \n",
    "opções. Teste a hipótese nula de que não há diferença na preferência dos \n",
    "leitores, ao nível de significância de 5%.\n",
    "\n",
    "![image.png](attachment:image.png)"
   ]
  },
  {
   "cell_type": "markdown",
   "id": "a742388c",
   "metadata": {},
   "source": [
    "# Imports"
   ]
  },
  {
   "cell_type": "code",
   "execution_count": 7,
   "id": "5e4f24dc",
   "metadata": {},
   "outputs": [],
   "source": [
    "import pandas as pd\n",
    "from scipy.stats import chisquare"
   ]
  },
  {
   "cell_type": "markdown",
   "id": "4b05c27f",
   "metadata": {},
   "source": [
    "# Leitura dos dados"
   ]
  },
  {
   "cell_type": "markdown",
   "id": "46188f5e",
   "metadata": {},
   "source": [
    "## Frequência Observada"
   ]
  },
  {
   "cell_type": "code",
   "execution_count": 8,
   "id": "01ac18a6",
   "metadata": {},
   "outputs": [
    {
     "data": {
      "text/html": [
       "<div>\n",
       "<style scoped>\n",
       "    .dataframe tbody tr th:only-of-type {\n",
       "        vertical-align: middle;\n",
       "    }\n",
       "\n",
       "    .dataframe tbody tr th {\n",
       "        vertical-align: top;\n",
       "    }\n",
       "\n",
       "    .dataframe thead th {\n",
       "        text-align: right;\n",
       "    }\n",
       "</style>\n",
       "<table border=\"1\" class=\"dataframe\">\n",
       "  <thead>\n",
       "    <tr style=\"text-align: right;\">\n",
       "      <th></th>\n",
       "      <th>Livro A</th>\n",
       "      <th>Livro B</th>\n",
       "      <th>Livro C</th>\n",
       "      <th>Total</th>\n",
       "    </tr>\n",
       "  </thead>\n",
       "  <tbody>\n",
       "    <tr>\n",
       "      <th>Frequencia observada</th>\n",
       "      <td>29</td>\n",
       "      <td>15</td>\n",
       "      <td>16</td>\n",
       "      <td>60</td>\n",
       "    </tr>\n",
       "  </tbody>\n",
       "</table>\n",
       "</div>"
      ],
      "text/plain": [
       "                      Livro A  Livro B  Livro C  Total\n",
       "Frequencia observada       29       15       16     60"
      ]
     },
     "execution_count": 8,
     "metadata": {},
     "output_type": "execute_result"
    }
   ],
   "source": [
    "df = pd.DataFrame({\n",
    "    'Livro A': [29],\n",
    "    'Livro B': [15],\n",
    "    'Livro C': [16],\n",
    "})\n",
    "\n",
    "df.index = ['Frequencia observada']\n",
    "\n",
    "df['Total'] = df[['Livro A', 'Livro B', 'Livro C']].sum(axis=1)\n",
    "\n",
    "df"
   ]
  },
  {
   "cell_type": "markdown",
   "id": "711957e4",
   "metadata": {},
   "source": [
    "# Resolução"
   ]
  },
  {
   "cell_type": "markdown",
   "id": "0644d5a3",
   "metadata": {},
   "source": [
    "## Proporção"
   ]
  },
  {
   "cell_type": "code",
   "execution_count": 9,
   "id": "f95cef82",
   "metadata": {},
   "outputs": [
    {
     "data": {
      "text/html": [
       "<div>\n",
       "<style scoped>\n",
       "    .dataframe tbody tr th:only-of-type {\n",
       "        vertical-align: middle;\n",
       "    }\n",
       "\n",
       "    .dataframe tbody tr th {\n",
       "        vertical-align: top;\n",
       "    }\n",
       "\n",
       "    .dataframe thead th {\n",
       "        text-align: right;\n",
       "    }\n",
       "</style>\n",
       "<table border=\"1\" class=\"dataframe\">\n",
       "  <thead>\n",
       "    <tr style=\"text-align: right;\">\n",
       "      <th></th>\n",
       "      <th>Livro A</th>\n",
       "      <th>Livro B</th>\n",
       "      <th>Livro C</th>\n",
       "      <th>Total</th>\n",
       "    </tr>\n",
       "  </thead>\n",
       "  <tbody>\n",
       "    <tr>\n",
       "      <th>Frequencia observada</th>\n",
       "      <td>29.000000</td>\n",
       "      <td>15.00</td>\n",
       "      <td>16.000000</td>\n",
       "      <td>60.0</td>\n",
       "    </tr>\n",
       "    <tr>\n",
       "      <th>Proporcao</th>\n",
       "      <td>0.483333</td>\n",
       "      <td>0.25</td>\n",
       "      <td>0.266667</td>\n",
       "      <td>1.0</td>\n",
       "    </tr>\n",
       "  </tbody>\n",
       "</table>\n",
       "</div>"
      ],
      "text/plain": [
       "                        Livro A  Livro B    Livro C  Total\n",
       "Frequencia observada  29.000000    15.00  16.000000   60.0\n",
       "Proporcao              0.483333     0.25   0.266667    1.0"
      ]
     },
     "execution_count": 9,
     "metadata": {},
     "output_type": "execute_result"
    }
   ],
   "source": [
    "# Calculando as proporções\n",
    "total_freq_abso = df.loc['Frequencia observada', 'Total']\n",
    "\n",
    "# Criamos uma nova Series (que será a nossa nova linha) para as proporções.\n",
    "proporcoes = pd.Series({\n",
    "    'Livro A': df.loc['Frequencia observada', 'Livro A'] / total_freq_abso,\n",
    "    'Livro B': df.loc['Frequencia observada', 'Livro B'] / total_freq_abso,\n",
    "    'Livro C': df.loc['Frequencia observada', 'Livro C'] / total_freq_abso,\n",
    "}, name='Proporcao') # Damos um nome para essa nova linha, que será o seu índice.\n",
    "\n",
    "# Adicionando a nova linha de proporções ao DataFrame existente\n",
    "df = pd.concat([df, pd.DataFrame([proporcoes])])\n",
    "\n",
    "#Calculando os totais\n",
    "df['Total'] = df[['Livro A', 'Livro B', 'Livro C']].sum(axis=1)\n",
    "\n",
    "df"
   ]
  },
  {
   "cell_type": "markdown",
   "id": "110fd945",
   "metadata": {},
   "source": [
    "## Frequência esperada"
   ]
  },
  {
   "cell_type": "markdown",
   "id": "cce80449",
   "metadata": {},
   "source": [
    "Como é para testar que não há diferença na preferência dos leitores, então a frequência esperada é a média de total de observações."
   ]
  },
  {
   "cell_type": "code",
   "execution_count": 10,
   "id": "2b177239",
   "metadata": {},
   "outputs": [
    {
     "data": {
      "text/html": [
       "<div>\n",
       "<style scoped>\n",
       "    .dataframe tbody tr th:only-of-type {\n",
       "        vertical-align: middle;\n",
       "    }\n",
       "\n",
       "    .dataframe tbody tr th {\n",
       "        vertical-align: top;\n",
       "    }\n",
       "\n",
       "    .dataframe thead th {\n",
       "        text-align: right;\n",
       "    }\n",
       "</style>\n",
       "<table border=\"1\" class=\"dataframe\">\n",
       "  <thead>\n",
       "    <tr style=\"text-align: right;\">\n",
       "      <th></th>\n",
       "      <th>Livro A</th>\n",
       "      <th>Livro B</th>\n",
       "      <th>Livro C</th>\n",
       "      <th>Total</th>\n",
       "    </tr>\n",
       "  </thead>\n",
       "  <tbody>\n",
       "    <tr>\n",
       "      <th>Frequencia observada</th>\n",
       "      <td>29.000000</td>\n",
       "      <td>15.00</td>\n",
       "      <td>16.000000</td>\n",
       "      <td>60.0</td>\n",
       "    </tr>\n",
       "    <tr>\n",
       "      <th>Proporcao</th>\n",
       "      <td>0.483333</td>\n",
       "      <td>0.25</td>\n",
       "      <td>0.266667</td>\n",
       "      <td>1.0</td>\n",
       "    </tr>\n",
       "    <tr>\n",
       "      <th>Frequencia esperada</th>\n",
       "      <td>20.000000</td>\n",
       "      <td>20.00</td>\n",
       "      <td>20.000000</td>\n",
       "      <td>60.0</td>\n",
       "    </tr>\n",
       "  </tbody>\n",
       "</table>\n",
       "</div>"
      ],
      "text/plain": [
       "                        Livro A  Livro B    Livro C  Total\n",
       "Frequencia observada  29.000000    15.00  16.000000   60.0\n",
       "Proporcao              0.483333     0.25   0.266667    1.0\n",
       "Frequencia esperada   20.000000    20.00  20.000000   60.0"
      ]
     },
     "execution_count": 10,
     "metadata": {},
     "output_type": "execute_result"
    }
   ],
   "source": [
    "freq_media_esperada = total_freq_abso / 3\n",
    "\n",
    "freq_esperada = pd.Series({\n",
    "    'Livro A': freq_media_esperada,\n",
    "    'Livro B': freq_media_esperada,\n",
    "    'Livro C': freq_media_esperada,\n",
    "}, name='Frequencia esperada')\n",
    "\n",
    "df = pd.concat([df, pd.DataFrame([freq_esperada])])\n",
    "\n",
    "#Calculando os totais\n",
    "df['Total'] = df[['Livro A', 'Livro B', 'Livro C']].sum(axis=1)\n",
    "\n",
    "df"
   ]
  },
  {
   "cell_type": "markdown",
   "id": "93a97d7c",
   "metadata": {},
   "source": [
    "## Teste Qui²"
   ]
  },
  {
   "cell_type": "code",
   "execution_count": 11,
   "id": "1ea806a2",
   "metadata": {},
   "outputs": [
    {
     "name": "stdout",
     "output_type": "stream",
     "text": [
      "\n",
      "Frequências Observadas (f_obs): [29. 15. 16.]\n",
      "Frequências Esperadas (f_exp): [20. 20. 20.]\n",
      "\n",
      "Estatística Qui-quadrado (scipy.stats): 6.1000\n",
      "Valor p (scipy.stats): 0.0474\n"
     ]
    }
   ],
   "source": [
    "# Extraindo as frequências observadas da linha 'Frequencia observada'\n",
    "f_obs = df.loc['Frequencia observada', ['Livro A', 'Livro B', 'Livro C']].values\n",
    "\n",
    "# Extraindo as frequências esperadas da linha 'Frequencia esperada'\n",
    "f_exp = df.loc['Frequencia esperada', ['Livro A', 'Livro B', 'Livro C']].values\n",
    "\n",
    "print(f\"\\nFrequências Observadas (f_obs): {f_obs}\")\n",
    "print(f\"Frequências Esperadas (f_exp): {f_exp}\")\n",
    "\n",
    "# Realiza o teste Qui-quadrado usando scipy.stats.chisquare\n",
    "chi2_statistic, p_value = chisquare(f_obs=f_obs, f_exp=f_exp)\n",
    "\n",
    "print(f\"\\nEstatística Qui-quadrado (scipy.stats): {chi2_statistic:.4f}\")\n",
    "print(f\"Valor p (scipy.stats): {p_value:.4f}\")"
   ]
  },
  {
   "cell_type": "markdown",
   "id": "2543c814",
   "metadata": {},
   "source": [
    "## Teste de hipotese"
   ]
  },
  {
   "cell_type": "markdown",
   "id": "232e0e4a",
   "metadata": {},
   "source": [
    "H0 = Não há diferença na preferencia de leitura dos leitores.\n",
    "\n",
    "H1 = há diferença na preferencia de leitura dos leitores."
   ]
  },
  {
   "attachments": {
    "image-2.png": {
     "image/png": "[encoded data removed]"
    },
    "image.png": {
     "image/png": "[encoded data removed]"
    }
   },
   "cell_type": "markdown",
   "id": "4fe04eff",
   "metadata": {},
   "source": [
    "![image-2.png](attachment:image-2.png)"
   ]
  },
  {
   "cell_type": "code",
   "execution_count": 12,
   "id": "3dae6486",
   "metadata": {},
   "outputs": [
    {
     "name": "stdout",
     "output_type": "stream",
     "text": [
      "\n",
      "Nível de significância (alpha): 0.05\n",
      "Resultado: Rejeitar a hipótese nula (H0). Há uma diferença significativa nas frequências observadas em relação às esperadas.\n"
     ]
    }
   ],
   "source": [
    "alpha = 0.05\n",
    "print(f\"\\nNível de significância (alpha): {alpha}\")\n",
    "if p_value < alpha:\n",
    "    print(\"Resultado: Rejeitar a hipótese nula (H0). Há uma diferença significativa nas frequências observadas em relação às esperadas.\")\n",
    "else:\n",
    "    print(\"Resultado: Não rejeitar a hipótese nula (H0). Não há evidências suficientes para dizer que as frequências observadas diferem significativamente das esperadas.\")"
   ]
  },
  {
   "cell_type": "markdown",
   "id": "8929b643",
   "metadata": {},
   "source": [
    "P_valor < que o alpha (nível de significância), significa que ele caiu na região do H1 no gráfico."
   ]
  },
  {
   "cell_type": "markdown",
   "id": "24d8c7b3",
   "metadata": {},
   "source": [
    "Como o p_valor é menor que nível de significância de 5%, a H0 é rejeitada. Portanto, há diferenças significativas nas preferências dos leitores. Ou seja, **existe uma preferência de consumo de certos livros pelos leitores**"
   ]
  }
 ],
 "metadata": {
  "kernelspec": {
   "display_name": "Python 3",
   "language": "python",
   "name": "python3"
  },
  "language_info": {
   "codemirror_mode": {
    "name": "ipython",
    "version": 3
   },
   "file_extension": ".py",
   "mimetype": "text/x-python",
   "name": "python",
   "nbconvert_exporter": "python",
   "pygments_lexer": "ipython3",
   "version": "3.11.9"
  }
 },
 "nbformat": 4,
 "nbformat_minor": 5
}
