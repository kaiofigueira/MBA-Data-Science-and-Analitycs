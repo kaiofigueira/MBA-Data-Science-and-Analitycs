{
 "cells": [
  {
   "cell_type": "markdown",
   "id": "d8c17c3d",
   "metadata": {},
   "source": [
    "# Enunciado"
   ]
  },
  {
   "cell_type": "markdown",
   "id": "c7000ba3",
   "metadata": {},
   "source": [
    "Parâmetros da distribuição binomial\t\n",
    "\n",
    "p (probabilidade de sucesso) = 16,67%\n",
    "\n",
    "n (número de repetições) = 10\n",
    "\n",
    "a) P(k=4)\n",
    "\n",
    "b) P(k=7) + P(k=8) + P(k=9) + P(k=10)"
   ]
  },
  {
   "cell_type": "markdown",
   "id": "a742388c",
   "metadata": {},
   "source": [
    "# Imports"
   ]
  },
  {
   "cell_type": "code",
   "execution_count": 1,
   "id": "5e4f24dc",
   "metadata": {},
   "outputs": [],
   "source": [
    "import pandas as pd\n",
    "from scipy.stats import binom"
   ]
  },
  {
   "cell_type": "markdown",
   "id": "4b05c27f",
   "metadata": {},
   "source": [
    "# Leitura dos dados"
   ]
  },
  {
   "cell_type": "code",
   "execution_count": 2,
   "id": "01ac18a6",
   "metadata": {},
   "outputs": [],
   "source": [
    "n = 10\n",
    "p = 0.1667"
   ]
  },
  {
   "cell_type": "markdown",
   "id": "ad381779",
   "metadata": {},
   "source": [
    "# Resolução letra A"
   ]
  },
  {
   "cell_type": "code",
   "execution_count": 3,
   "id": "bbda5578",
   "metadata": {},
   "outputs": [
    {
     "name": "stdout",
     "output_type": "stream",
     "text": [
      "Considerando 10 números de tentativas e 0.1667 probabilidade de sucesso, a probabilidade de obter 2 sucessos é: 0.2907\n"
     ]
    }
   ],
   "source": [
    "k_sucessos = 2\n",
    "\n",
    "probabilidade = binom.pmf(k_sucessos, n, p)\n",
    "print(f\"Considerando {n} números de tentativas e {p} probabilidade de sucesso, a probabilidade de obter {k_sucessos} sucessos é: {probabilidade:.4f}\")"
   ]
  },
  {
   "cell_type": "markdown",
   "id": "de610633",
   "metadata": {},
   "source": [
    "# Resolução letra B"
   ]
  },
  {
   "cell_type": "code",
   "execution_count": null,
   "id": "5a099a24",
   "metadata": {},
   "outputs": [
    {
     "name": "stdout",
     "output_type": "stream",
     "text": [
      "\n",
      "Função Massa de Probabilidade (PMF) para cada k:\n",
      "P(X=7) = 0.0002\n",
      "P(X=8) = 0.0000\n",
      "P(X=9) = 0.0000\n",
      "P(X=10) = 0.0000\n",
      "\n",
      "Probabilidade acumulada de P(7 ≤ k ≤ 10) = 0.0003\n"
     ]
    }
   ],
   "source": [
    "k_sucessos = 7\n",
    "list_p=[]\n",
    "print(\"\\nFunção Massa de Probabilidade (PMF) para cada k:\")\n",
    "for k_i in range(k_sucessos, n + 1):\n",
    "    p_i=binom.pmf(k_i, n, p)\n",
    "    list_p.append(p_i)\n",
    "    print(f\"P(X={k_i}) = {p_i:.4f}\")\n",
    "print(f\"\\nProbabilidade acumulada de P(7 ≤ k ≤ 10) = {sum(list_p):.4f}\")"
   ]
  },
  {
   "cell_type": "markdown",
   "id": "b17f2999",
   "metadata": {},
   "source": [
    "Ou é possível usar a função de probabilidade acumulada diretamente"
   ]
  },
  {
   "cell_type": "code",
   "execution_count": 11,
   "id": "205e18e2",
   "metadata": {},
   "outputs": [
    {
     "name": "stdout",
     "output_type": "stream",
     "text": [
      "\n",
      "A probabilidade de obter 7 ou menos sucessos é: 0.0003\n"
     ]
    }
   ],
   "source": [
    "#Como eu quero p(k=7), preciso subtrair 1 de k_sucesso\n",
    "prob_acum_menor_que_k  = binom.cdf(k_sucessos-1, n, p)\n",
    "#Usando a função 1-p, subtraio p(k>=6) do total (1), resultando em p(k>=7)\n",
    "prob_maior_ou_igual_k  = 1 - prob_acum_menor_que_k\n",
    "print(f\"\\nA probabilidade de obter {k_sucessos} ou menos sucessos é: {prob_maior_ou_igual_k:.4f}\")"
   ]
  },
  {
   "cell_type": "markdown",
   "id": "d83fd182",
   "metadata": {},
   "source": [
    "# Formulas gerais de binomial"
   ]
  },
  {
   "cell_type": "code",
   "execution_count": 5,
   "id": "842f233f",
   "metadata": {},
   "outputs": [
    {
     "name": "stdout",
     "output_type": "stream",
     "text": [
      "A probabilidade de obter exatamente 2 sucessos é: 0.2907\n",
      "\n",
      "Função Massa de Probabilidade (PMF) para cada k:\n",
      "P(X=0) = 0.1614\n",
      "P(X=1) = 0.3230\n",
      "P(X=2) = 0.2907\n",
      "P(X=3) = 0.1551\n",
      "P(X=4) = 0.0543\n",
      "P(X=5) = 0.0130\n",
      "P(X=6) = 0.0022\n",
      "P(X=7) = 0.0002\n",
      "P(X=8) = 0.0000\n",
      "P(X=9) = 0.0000\n",
      "P(X=10) = 0.0000\n",
      "\n",
      "A probabilidade de obter 3 ou menos sucessos é: 0.9302\n",
      "\n",
      "A probabilidade de obter mais de 3 sucessos é: 0.0698\n",
      "\n",
      "Média da distribuição: 1.6670\n",
      "Variância da distribuição: 1.3891\n",
      "Desvio padrão da distribuição: 1.1786\n"
     ]
    }
   ],
   "source": [
    "# 1. Calcular a Função Massa de Probabilidade (PMF)\n",
    "# Probabilidade de obter exatamente k sucessos\n",
    "# Por exemplo, qual a probabilidade de obter exatamente 2 sucessos?\n",
    "k_exemplo = 2\n",
    "prob_k_sucessos = binom.pmf(k_exemplo, n, p)\n",
    "print(f\"A probabilidade de obter exatamente {k_exemplo} sucessos é: {prob_k_sucessos:.4f}\")\n",
    "\n",
    "# Você também pode calcular a PMF para todos os possíveis valores de k (de 0 a n)\n",
    "print(\"\\nFunção Massa de Probabilidade (PMF) para cada k:\")\n",
    "for k_i in range(n + 1):\n",
    "    print(f\"P(X={k_i}) = {binom.pmf(k_i, n, p):.4f}\")\n",
    "\n",
    "# 2. Calcular a Função de Distribuição Acumulada (CDF)\n",
    "# Probabilidade de obter k ou menos sucessos\n",
    "# Por exemplo, qual a probabilidade de obter 3 ou menos sucessos?\n",
    "k_cdf_exemplo = 3\n",
    "prob_k_ou_menos = binom.cdf(k_cdf_exemplo, n, p)\n",
    "print(f\"\\nA probabilidade de obter {k_cdf_exemplo} ou menos sucessos é: {prob_k_ou_menos:.4f}\")\n",
    "\n",
    "# 3. Calcular a Função de Sobrevivência (SF)\n",
    "# Probabilidade de obter mais de k sucessos (1 - CDF)\n",
    "# Por exemplo, qual a probabilidade de obter mais de 3 sucessos?\n",
    "k_sf_exemplo = 3\n",
    "prob_mais_de_k = binom.sf(k_sf_exemplo, n, p)\n",
    "# Alternativamente: 1 - binom.cdf(k_sf_exemplo, n, p)\n",
    "print(f\"\\nA probabilidade de obter mais de {k_sf_exemplo} sucessos é: {prob_mais_de_k:.4f}\")\n",
    "\n",
    "# 4. Calcular a Média, Variância e Desvio Padrão\n",
    "media = binom.mean(n, p)\n",
    "variancia = binom.var(n, p)\n",
    "desvio_padrao = binom.std(n, p)\n",
    "\n",
    "print(f\"\\nMédia da distribuição: {media:.4f}\")\n",
    "print(f\"Variância da distribuição: {variancia:.4f}\")\n",
    "print(f\"Desvio padrão da distribuição: {desvio_padrao:.4f}\")"
   ]
  }
 ],
 "metadata": {
  "kernelspec": {
   "display_name": "Python 3",
   "language": "python",
   "name": "python3"
  },
  "language_info": {
   "codemirror_mode": {
    "name": "ipython",
    "version": 3
   },
   "file_extension": ".py",
   "mimetype": "text/x-python",
   "name": "python",
   "nbconvert_exporter": "python",
   "pygments_lexer": "ipython3",
   "version": "3.11.9"
  }
 },
 "nbformat": 4,
 "nbformat_minor": 5
}
