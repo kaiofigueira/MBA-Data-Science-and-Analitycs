{
 "cells": [
  {
   "cell_type": "markdown",
   "id": "d8c17c3d",
   "metadata": {},
   "source": [
    "# Enunciado"
   ]
  },
  {
   "cell_type": "markdown",
   "id": "c7000ba3",
   "metadata": {},
   "source": [
    "Em uma indústria alimentícia, para a preparação de certo produto, a \n",
    "quantidade padrão de sal são 8g com desvio padrão igual a 1g. Na análise de \n",
    "uma amostra de 85 produtos, foi observada uma quantidade média de sal de \n",
    "8,25g. Avalie se a quantidade observada na amostra pode ser considerada \n",
    "estatisticamente maior, ao nível de significância de 5%. "
   ]
  },
  {
   "cell_type": "markdown",
   "id": "a742388c",
   "metadata": {},
   "source": [
    "# Imports"
   ]
  },
  {
   "cell_type": "code",
   "execution_count": 1,
   "id": "5e4f24dc",
   "metadata": {},
   "outputs": [],
   "source": [
    "from scipy.stats import norm\n",
    "import math"
   ]
  },
  {
   "cell_type": "markdown",
   "id": "4b05c27f",
   "metadata": {},
   "source": [
    "# Leitura dos dados"
   ]
  },
  {
   "cell_type": "code",
   "execution_count": 2,
   "id": "01ac18a6",
   "metadata": {},
   "outputs": [],
   "source": [
    "alpha = 0.05\n",
    "media_amostral = 8.25\n",
    "desvio_padrao_populacional = 1\n",
    "n = 85\n",
    "media_populacional = 8"
   ]
  },
  {
   "cell_type": "markdown",
   "id": "711957e4",
   "metadata": {},
   "source": [
    "# Resolução"
   ]
  },
  {
   "cell_type": "markdown",
   "id": "1027a52b",
   "metadata": {},
   "source": [
    "H0: media_amostral = 8g\n",
    "\n",
    "H1: media_amostral > 8g (teste unicaudal à esquerda)"
   ]
  },
  {
   "cell_type": "code",
   "execution_count": 3,
   "id": "93e721b6",
   "metadata": {},
   "outputs": [
    {
     "name": "stdout",
     "output_type": "stream",
     "text": [
      "Hipótese Nula (H0): Média populacional (μ) >= 8g\n",
      "Hipótese Alternativa (H1): Média populacional (μ) < 8g\n",
      "Nível de significância (alpha): 0.05\n",
      "\n",
      "z calculado: 2.3048861143232218\n",
      "p-valor: 0.01058647624307385\n",
      "Valor Z crítico (para alpha = 0.05, unicaudal à DIREITA): 1.6449\n",
      "\n"
     ]
    }
   ],
   "source": [
    "print(f\"Hipótese Nula (H0): Média populacional (μ) >= {media_populacional}g\")\n",
    "print(f\"Hipótese Alternativa (H1): Média populacional (μ) < {media_populacional}g\")\n",
    "print(f\"Nível de significância (alpha): {alpha}\\n\")\n",
    "\n",
    "erro_padrao = desvio_padrao_populacional / math.sqrt(n)\n",
    "z_calculado = (media_amostral - media_populacional) / (erro_padrao)\n",
    "print(f\"z calculado: {z_calculado}\")\n",
    "\n",
    "valor_p = 1 - norm.cdf(z_calculado)\n",
    "print(f\"p-valor: {valor_p}\")\n",
    "\n",
    "z_critico = norm.ppf(1 - alpha)\n",
    "print(f\"Valor Z crítico (para alpha = {alpha}, unicaudal à DIREITA): {z_critico:.4f}\\n\")"
   ]
  },
  {
   "cell_type": "code",
   "execution_count": 4,
   "id": "bfa8a413",
   "metadata": {},
   "outputs": [
    {
     "name": "stdout",
     "output_type": "stream",
     "text": [
      "Decisão (usando valor-p):\n",
      "Como o valor-p (0.0106) é menor ou igual a α (0.05), rejeitamos H0.\n",
      "\n",
      "Decisão (usando valor crítico):\n",
      "Como Z calculado (2.3049) é MAIOR OU IGUAL ao Z crítico (1.6449), rejeitamos H0.\n"
     ]
    }
   ],
   "source": [
    "# Decisão usando valor-p\n",
    "print(\"Decisão (usando valor-p):\")\n",
    "if valor_p <= alpha:\n",
    "    print(f\"Como o valor-p ({valor_p:.4f}) é menor ou igual a α ({alpha}), rejeitamos H0.\")\n",
    "else:\n",
    "    print(f\"Como o valor-p ({valor_p:.4f}) é maior que α ({alpha}), não rejeitamos H0.\")\n",
    "\n",
    "# Decisão usando valor crítico (para teste UNICAUDAL À DIREITA)\n",
    "print(\"\\nDecisão (usando valor crítico):\")\n",
    "if z_calculado >= z_critico:\n",
    "    print(f\"Como Z calculado ({z_calculado:.4f}) é MAIOR OU IGUAL ao Z crítico ({z_critico:.4f}), rejeitamos H0.\")\n",
    "else: # z_calculado < z_critico\n",
    "    print(f\"Como Z calculado ({z_calculado:.4f}) é MENOR que o Z crítico ({z_critico:.4f}), não rejeitamos H0.\")\n"
   ]
  },
  {
   "cell_type": "code",
   "execution_count": 6,
   "id": "af151cb0",
   "metadata": {},
   "outputs": [
    {
     "name": "stdout",
     "output_type": "stream",
     "text": [
      "\n",
      "--- INTERPRETAÇÃO DOS RESULTADOS ---\n",
      "Ao nível de significância de 5%, há evidência estatística para concluir que a quantidade média de sal observada na amostra é MAIOR que 8g.\n"
     ]
    }
   ],
   "source": [
    "# --- 7. Interpretação dos Resultados (para Teste Unicaudal à DIREITA) ---\n",
    "print(\"\\n--- INTERPRETAÇÃO DOS RESULTADOS ---\")\n",
    "if valor_p <= alpha:\n",
    "    print(f\"Ao nível de significância de {alpha*100:.0f}%, há evidência estatística para concluir que a quantidade média de sal observada na amostra é MAIOR que {media_populacional}g.\")\n",
    "else:\n",
    "    print(f\"Ao nível de significância de {alpha*100:.0f}%, não há evidência estatística suficiente para concluir que a quantidade média de sal observada na amostra é MAIOR que {media_populacional}g.\")\n"
   ]
  },
  {
   "attachments": {
    "image.png": {
     "image/png": "[encoded data removed]"
    }
   },
   "cell_type": "markdown",
   "id": "9ddb5b0f",
   "metadata": {},
   "source": [
    "![image.png](attachment:image.png)"
   ]
  },
  {
   "cell_type": "markdown",
   "id": "0f63fd3c",
   "metadata": {},
   "source": []
  }
 ],
 "metadata": {
  "kernelspec": {
   "display_name": "Python 3",
   "language": "python",
   "name": "python3"
  },
  "language_info": {
   "codemirror_mode": {
    "name": "ipython",
    "version": 3
   },
   "file_extension": ".py",
   "mimetype": "text/x-python",
   "name": "python",
   "nbconvert_exporter": "python",
   "pygments_lexer": "ipython3",
   "version": "3.11.9"
  }
 },
 "nbformat": 4,
 "nbformat_minor": 5
}
