{
 "cells": [
  {
   "cell_type": "markdown",
   "id": "d8c17c3d",
   "metadata": {},
   "source": [
    "# Enunciado"
   ]
  },
  {
   "cell_type": "markdown",
   "id": "c7000ba3",
   "metadata": {},
   "source": [
    "Em uma amostra de 425 medições, observou-se que o peso médio dos \n",
    "produtos que foram medidos é 226g, com desvio padrão de 10g. Estabeleça o \n",
    "intervalo de confiança para esta média, sabendo que o desvio padrão \n",
    "observado é exatamente seu valor histórico. Considere um nível de confiança \n",
    "de 95%. "
   ]
  },
  {
   "cell_type": "markdown",
   "id": "a742388c",
   "metadata": {},
   "source": [
    "# Imports"
   ]
  },
  {
   "cell_type": "code",
   "execution_count": 1,
   "id": "5e4f24dc",
   "metadata": {},
   "outputs": [],
   "source": [
    "from scipy.stats import norm\n",
    "import math"
   ]
  },
  {
   "cell_type": "markdown",
   "id": "4b05c27f",
   "metadata": {},
   "source": [
    "# Leitura dos dados"
   ]
  },
  {
   "cell_type": "code",
   "execution_count": 2,
   "id": "01ac18a6",
   "metadata": {},
   "outputs": [],
   "source": [
    "nivel_confianca = 0.95\n",
    "alpha = 1 - nivel_confianca\n",
    "media_amostral = 226\n",
    "desvio_padrao_amostral = 10\n",
    "desvio_padrao_populacional = 10\n",
    "n = 425"
   ]
  },
  {
   "cell_type": "markdown",
   "id": "711957e4",
   "metadata": {},
   "source": [
    "# Resolução"
   ]
  },
  {
   "cell_type": "code",
   "execution_count": 3,
   "id": "956c2839",
   "metadata": {},
   "outputs": [],
   "source": [
    "def calcular_intervalo_confianca(media, desvio_padrao, z_critico, n):\n",
    "    erro_padrao = desvio_padrao / math.sqrt(n)\n",
    "    intervalo = (media - z_critico * erro_padrao, media + z_critico * erro_padrao)\n",
    "    return intervalo"
   ]
  },
  {
   "cell_type": "code",
   "execution_count": 4,
   "id": "6bf63b87",
   "metadata": {},
   "outputs": [
    {
     "name": "stdout",
     "output_type": "stream",
     "text": [
      "Valor Crítico (Z_alpha/2): 1.9600\n"
     ]
    }
   ],
   "source": [
    "z_alpha = norm.ppf(1 - alpha / 2)\n",
    "print(f\"Valor Crítico (Z_alpha/2): {z_alpha:.4f}\")"
   ]
  },
  {
   "cell_type": "code",
   "execution_count": 5,
   "id": "1737a5be",
   "metadata": {},
   "outputs": [
    {
     "name": "stdout",
     "output_type": "stream",
     "text": [
      "Intervalo de Confiança (IC) de 95.0%: (225.04927781992174, 226.95072218007826)\n"
     ]
    }
   ],
   "source": [
    "ic = calcular_intervalo_confianca(media_amostral, desvio_padrao_populacional, z_alpha, n)\n",
    "print(f\"Intervalo de Confiança (IC) de {nivel_confianca*100}%: {ic}\")"
   ]
  }
 ],
 "metadata": {
  "kernelspec": {
   "display_name": "Python 3",
   "language": "python",
   "name": "python3"
  },
  "language_info": {
   "codemirror_mode": {
    "name": "ipython",
    "version": 3
   },
   "file_extension": ".py",
   "mimetype": "text/x-python",
   "name": "python",
   "nbconvert_exporter": "python",
   "pygments_lexer": "ipython3",
   "version": "3.11.9"
  }
 },
 "nbformat": 4,
 "nbformat_minor": 5
}
