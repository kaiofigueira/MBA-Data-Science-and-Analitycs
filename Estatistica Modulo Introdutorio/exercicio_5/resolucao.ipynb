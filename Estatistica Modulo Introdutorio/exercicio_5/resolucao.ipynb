{
 "cells": [
  {
   "cell_type": "markdown",
   "id": "d8c17c3d",
   "metadata": {},
   "source": [
    "# Enunciado"
   ]
  },
  {
   "cell_type": "markdown",
   "id": "c7000ba3",
   "metadata": {},
   "source": [
    "Suponha que o número de acidentes de trânsito em determinada cidade seja, \n",
    "em média, de 5 acidentes por dia e que siga uma distribuição Poisson. Calcule \n",
    "a probabilidade de que, em tal cidade, ocorram 9 acidentes de trânsito em um \n",
    "dia.\n",
    "<br><br>\n",
    "\n",
    "Parâmetros da distribuição Poisson:\n",
    "\n",
    "λ (taxa média de ocorrências) = 5\n",
    "\n",
    "k (quantidade de ocorrências de interesse) = 9\n",
    "\n",
    "probabilidade (X=k)?"
   ]
  },
  {
   "cell_type": "markdown",
   "id": "a742388c",
   "metadata": {},
   "source": [
    "# Imports"
   ]
  },
  {
   "cell_type": "code",
   "execution_count": 1,
   "id": "5e4f24dc",
   "metadata": {},
   "outputs": [],
   "source": [
    "from scipy.stats import poisson"
   ]
  },
  {
   "cell_type": "markdown",
   "id": "4b05c27f",
   "metadata": {},
   "source": [
    "# Leitura dos dados"
   ]
  },
  {
   "cell_type": "code",
   "execution_count": 2,
   "id": "01ac18a6",
   "metadata": {},
   "outputs": [],
   "source": [
    "lamb = 5\n",
    "k = 9"
   ]
  },
  {
   "cell_type": "markdown",
   "id": "711957e4",
   "metadata": {},
   "source": [
    "# Resolução"
   ]
  },
  {
   "cell_type": "code",
   "execution_count": 3,
   "id": "f95cef82",
   "metadata": {},
   "outputs": [
    {
     "name": "stdout",
     "output_type": "stream",
     "text": [
      "A probabilidade de ocorrerem exatamente 9 eventos é: 0.0363\n"
     ]
    }
   ],
   "source": [
    "prob = poisson.pmf(k, lamb)\n",
    "print(f\"A probabilidade de ocorrerem exatamente {k} eventos é: {prob:.4f}\")"
   ]
  },
  {
   "cell_type": "markdown",
   "id": "97cf388f",
   "metadata": {},
   "source": [
    "Caso o exercício pedisse a probablidade acumulada até k, P(X >= k), então seria calculado da seguinte forma"
   ]
  },
  {
   "cell_type": "code",
   "execution_count": 4,
   "id": "8f567048",
   "metadata": {},
   "outputs": [
    {
     "name": "stdout",
     "output_type": "stream",
     "text": [
      "A probabilidade de ocorrerem exatamente 9 eventos é: 0.9682\n"
     ]
    }
   ],
   "source": [
    "prob_acum = poisson.cdf(k, lamb)\n",
    "print(f\"A probabilidade de ocorrerem exatamente {k} eventos é: {prob_acum:.4f}\")"
   ]
  }
 ],
 "metadata": {
  "kernelspec": {
   "display_name": "Python 3",
   "language": "python",
   "name": "python3"
  },
  "language_info": {
   "codemirror_mode": {
    "name": "ipython",
    "version": 3
   },
   "file_extension": ".py",
   "mimetype": "text/x-python",
   "name": "python",
   "nbconvert_exporter": "python",
   "pygments_lexer": "ipython3",
   "version": "3.11.9"
  }
 },
 "nbformat": 4,
 "nbformat_minor": 5
}
